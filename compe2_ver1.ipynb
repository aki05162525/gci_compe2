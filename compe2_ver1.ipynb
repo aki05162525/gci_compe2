{
  "nbformat": 4,
  "nbformat_minor": 0,
  "metadata": {
    "colab": {
      "provenance": [],
      "toc_visible": true,
      "authorship_tag": "ABX9TyMtouqKgEVZvYFbOJQJ2Eeo",
      "include_colab_link": true
    },
    "kernelspec": {
      "name": "python3",
      "display_name": "Python 3"
    },
    "language_info": {
      "name": "python"
    }
  },
  "cells": [
    {
      "cell_type": "markdown",
      "metadata": {
        "id": "view-in-github",
        "colab_type": "text"
      },
      "source": [
        "<a href=\"https://colab.research.google.com/github/aki05162525/gci_compe2/blob/main/compe2_ver1.ipynb\" target=\"_parent\"><img src=\"https://colab.research.google.com/assets/colab-badge.svg\" alt=\"Open In Colab\"/></a>"
      ]
    },
    {
      "cell_type": "code",
      "execution_count": null,
      "metadata": {
        "id": "ER-AXtAYMq_L"
      },
      "outputs": [],
      "source": [
        "# ライブラリの読み込み\n",
        "import numpy as np\n",
        "import pandas as pd\n",
        "import matplotlib.pyplot as plt\n",
        "import seaborn as sns\n",
        "\n",
        "import warnings\n",
        "warnings.filterwarnings('ignore')"
      ]
    },
    {
      "cell_type": "code",
      "source": [
        "# Google Colaboratoryで作業する場合はこちらも実行してください。\n",
        "from google.colab import drive\n",
        "drive.mount('/content/drive')"
      ],
      "metadata": {
        "colab": {
          "base_uri": "https://localhost:8080/"
        },
        "id": "br7tVEYRM4eb",
        "outputId": "68a91291-fd93-4534-fc59-3e0a0fffb9ee"
      },
      "execution_count": null,
      "outputs": [
        {
          "output_type": "stream",
          "name": "stdout",
          "text": [
            "Mounted at /content/drive\n"
          ]
        }
      ]
    },
    {
      "cell_type": "code",
      "source": [
        "# %cd 以降にこのnotebookを置いているディレクトリを指定してください。\n",
        "%cd \"/content/drive/MyDrive/GCI　Winter/compe2\""
      ],
      "metadata": {
        "colab": {
          "base_uri": "https://localhost:8080/"
        },
        "id": "k9Vx8pMEM6NH",
        "outputId": "6e4b4786-59e7-4492-c0dd-9c08c1317795"
      },
      "execution_count": null,
      "outputs": [
        {
          "output_type": "stream",
          "name": "stdout",
          "text": [
            "/content/drive/MyDrive/GCI　Winter/compe2\n"
          ]
        }
      ]
    },
    {
      "cell_type": "code",
      "source": [
        "# データの読み込み\n",
        "# INPUT_DIRにtrain.csvなどのデータを置いているディレクトリを指定してください。\n",
        "INPUT_DIR = \"./input/\"\n",
        "\n",
        "train = pd.read_csv(INPUT_DIR + \"train.csv\")\n",
        "test = pd.read_csv(INPUT_DIR + \"test.csv\")\n",
        "sample_sub = pd.read_csv(INPUT_DIR + \"sample_submission.csv\")"
      ],
      "metadata": {
        "id": "71DL4v_sM8N4"
      },
      "execution_count": null,
      "outputs": []
    },
    {
      "cell_type": "code",
      "source": [
        "# trainデータの確認\n",
        "print(f\"train shape: {train.shape}\")\n",
        "train.head(10)"
      ],
      "metadata": {
        "colab": {
          "base_uri": "https://localhost:8080/",
          "height": 507
        },
        "id": "7gvEFNxwM-Vh",
        "outputId": "9897e39b-901e-40c1-c812-155c96fa518b"
      },
      "execution_count": null,
      "outputs": [
        {
          "output_type": "stream",
          "name": "stdout",
          "text": [
            "train shape: (171202, 51)\n"
          ]
        },
        {
          "output_type": "execute_result",
          "data": {
            "text/plain": [
              "   SK_ID_CURR  TARGET NAME_CONTRACT_TYPE CODE_GENDER FLAG_OWN_CAR  \\\n",
              "0           0       0         Cash loans           F            N   \n",
              "1           1       0         Cash loans           F            N   \n",
              "2           2       0         Cash loans           F            N   \n",
              "3           3       0         Cash loans           F            N   \n",
              "4           4       1         Cash loans           M            N   \n",
              "5           5       1         Cash loans           F            N   \n",
              "6           6       0         Cash loans           F            N   \n",
              "7           7       1         Cash loans           M            N   \n",
              "8           8       0         Cash loans           M            Y   \n",
              "9           9       1         Cash loans           F            N   \n",
              "\n",
              "  FLAG_OWN_REALTY  CNT_CHILDREN  AMT_INCOME_TOTAL  AMT_CREDIT  AMT_ANNUITY  \\\n",
              "0               N             0          112500.0    755190.0      36328.5   \n",
              "1               Y             0          225000.0    585000.0      16893.0   \n",
              "2               Y             0           54000.0    334152.0      18256.5   \n",
              "3               Y             0           67500.0    152820.0       8901.0   \n",
              "4               N             0          157500.0    271066.5      21546.0   \n",
              "5               Y             0          135000.0    247500.0      19971.0   \n",
              "6               Y             0          189000.0    332946.0      17127.0   \n",
              "7               Y             0          157500.0    203760.0      24309.0   \n",
              "8               N             1          324000.0    808650.0      22234.5   \n",
              "9               Y             1          180000.0    207117.0      16492.5   \n",
              "\n",
              "   ...  EXT_SOURCE_3 OBS_30_CNT_SOCIAL_CIRCLE DEF_30_CNT_SOCIAL_CIRCLE  \\\n",
              "0  ...           NaN                      0.0                      0.0   \n",
              "1  ...      0.553165                      0.0                      0.0   \n",
              "2  ...           NaN                      4.0                      0.0   \n",
              "3  ...      0.767523                      0.0                      0.0   \n",
              "4  ...      0.669057                      0.0                      0.0   \n",
              "5  ...           NaN                      0.0                      0.0   \n",
              "6  ...      0.399676                      6.0                      0.0   \n",
              "7  ...           NaN                      0.0                      0.0   \n",
              "8  ...      0.629674                      1.0                      0.0   \n",
              "9  ...           NaN                      1.0                      0.0   \n",
              "\n",
              "  OBS_60_CNT_SOCIAL_CIRCLE DEF_60_CNT_SOCIAL_CIRCLE DAYS_LAST_PHONE_CHANGE  \\\n",
              "0                      0.0                      0.0                 -292.0   \n",
              "1                      0.0                      0.0                 -617.0   \n",
              "2                      4.0                      0.0                 -542.0   \n",
              "3                      0.0                      0.0                    0.0   \n",
              "4                      0.0                      0.0                -1243.0   \n",
              "5                      0.0                      0.0                 -307.0   \n",
              "6                      6.0                      0.0                -1918.0   \n",
              "7                      0.0                      0.0                    0.0   \n",
              "8                      1.0                      0.0                   -1.0   \n",
              "9                      1.0                      0.0                 -905.0   \n",
              "\n",
              "   AMT_REQ_CREDIT_BUREAU_HOUR  AMT_REQ_CREDIT_BUREAU_MON  \\\n",
              "0                         NaN                        NaN   \n",
              "1                         0.0                        0.0   \n",
              "2                         NaN                        NaN   \n",
              "3                         0.0                        0.0   \n",
              "4                         0.0                        0.0   \n",
              "5                         NaN                        NaN   \n",
              "6                         0.0                        0.0   \n",
              "7                         NaN                        NaN   \n",
              "8                         0.0                        0.0   \n",
              "9                         NaN                        NaN   \n",
              "\n",
              "   AMT_REQ_CREDIT_BUREAU_QRT  AMT_REQ_CREDIT_BUREAU_YEAR  \n",
              "0                        NaN                         NaN  \n",
              "1                        0.0                         1.0  \n",
              "2                        NaN                         NaN  \n",
              "3                        0.0                         0.0  \n",
              "4                        0.0                         4.0  \n",
              "5                        NaN                         NaN  \n",
              "6                        0.0                         3.0  \n",
              "7                        NaN                         NaN  \n",
              "8                        0.0                         0.0  \n",
              "9                        NaN                         NaN  \n",
              "\n",
              "[10 rows x 51 columns]"
            ],
            "text/html": [
              "\n",
              "  <div id=\"df-a883d96e-3982-418b-bedd-ccaab2a4394a\" class=\"colab-df-container\">\n",
              "    <div>\n",
              "<style scoped>\n",
              "    .dataframe tbody tr th:only-of-type {\n",
              "        vertical-align: middle;\n",
              "    }\n",
              "\n",
              "    .dataframe tbody tr th {\n",
              "        vertical-align: top;\n",
              "    }\n",
              "\n",
              "    .dataframe thead th {\n",
              "        text-align: right;\n",
              "    }\n",
              "</style>\n",
              "<table border=\"1\" class=\"dataframe\">\n",
              "  <thead>\n",
              "    <tr style=\"text-align: right;\">\n",
              "      <th></th>\n",
              "      <th>SK_ID_CURR</th>\n",
              "      <th>TARGET</th>\n",
              "      <th>NAME_CONTRACT_TYPE</th>\n",
              "      <th>CODE_GENDER</th>\n",
              "      <th>FLAG_OWN_CAR</th>\n",
              "      <th>FLAG_OWN_REALTY</th>\n",
              "      <th>CNT_CHILDREN</th>\n",
              "      <th>AMT_INCOME_TOTAL</th>\n",
              "      <th>AMT_CREDIT</th>\n",
              "      <th>AMT_ANNUITY</th>\n",
              "      <th>...</th>\n",
              "      <th>EXT_SOURCE_3</th>\n",
              "      <th>OBS_30_CNT_SOCIAL_CIRCLE</th>\n",
              "      <th>DEF_30_CNT_SOCIAL_CIRCLE</th>\n",
              "      <th>OBS_60_CNT_SOCIAL_CIRCLE</th>\n",
              "      <th>DEF_60_CNT_SOCIAL_CIRCLE</th>\n",
              "      <th>DAYS_LAST_PHONE_CHANGE</th>\n",
              "      <th>AMT_REQ_CREDIT_BUREAU_HOUR</th>\n",
              "      <th>AMT_REQ_CREDIT_BUREAU_MON</th>\n",
              "      <th>AMT_REQ_CREDIT_BUREAU_QRT</th>\n",
              "      <th>AMT_REQ_CREDIT_BUREAU_YEAR</th>\n",
              "    </tr>\n",
              "  </thead>\n",
              "  <tbody>\n",
              "    <tr>\n",
              "      <th>0</th>\n",
              "      <td>0</td>\n",
              "      <td>0</td>\n",
              "      <td>Cash loans</td>\n",
              "      <td>F</td>\n",
              "      <td>N</td>\n",
              "      <td>N</td>\n",
              "      <td>0</td>\n",
              "      <td>112500.0</td>\n",
              "      <td>755190.0</td>\n",
              "      <td>36328.5</td>\n",
              "      <td>...</td>\n",
              "      <td>NaN</td>\n",
              "      <td>0.0</td>\n",
              "      <td>0.0</td>\n",
              "      <td>0.0</td>\n",
              "      <td>0.0</td>\n",
              "      <td>-292.0</td>\n",
              "      <td>NaN</td>\n",
              "      <td>NaN</td>\n",
              "      <td>NaN</td>\n",
              "      <td>NaN</td>\n",
              "    </tr>\n",
              "    <tr>\n",
              "      <th>1</th>\n",
              "      <td>1</td>\n",
              "      <td>0</td>\n",
              "      <td>Cash loans</td>\n",
              "      <td>F</td>\n",
              "      <td>N</td>\n",
              "      <td>Y</td>\n",
              "      <td>0</td>\n",
              "      <td>225000.0</td>\n",
              "      <td>585000.0</td>\n",
              "      <td>16893.0</td>\n",
              "      <td>...</td>\n",
              "      <td>0.553165</td>\n",
              "      <td>0.0</td>\n",
              "      <td>0.0</td>\n",
              "      <td>0.0</td>\n",
              "      <td>0.0</td>\n",
              "      <td>-617.0</td>\n",
              "      <td>0.0</td>\n",
              "      <td>0.0</td>\n",
              "      <td>0.0</td>\n",
              "      <td>1.0</td>\n",
              "    </tr>\n",
              "    <tr>\n",
              "      <th>2</th>\n",
              "      <td>2</td>\n",
              "      <td>0</td>\n",
              "      <td>Cash loans</td>\n",
              "      <td>F</td>\n",
              "      <td>N</td>\n",
              "      <td>Y</td>\n",
              "      <td>0</td>\n",
              "      <td>54000.0</td>\n",
              "      <td>334152.0</td>\n",
              "      <td>18256.5</td>\n",
              "      <td>...</td>\n",
              "      <td>NaN</td>\n",
              "      <td>4.0</td>\n",
              "      <td>0.0</td>\n",
              "      <td>4.0</td>\n",
              "      <td>0.0</td>\n",
              "      <td>-542.0</td>\n",
              "      <td>NaN</td>\n",
              "      <td>NaN</td>\n",
              "      <td>NaN</td>\n",
              "      <td>NaN</td>\n",
              "    </tr>\n",
              "    <tr>\n",
              "      <th>3</th>\n",
              "      <td>3</td>\n",
              "      <td>0</td>\n",
              "      <td>Cash loans</td>\n",
              "      <td>F</td>\n",
              "      <td>N</td>\n",
              "      <td>Y</td>\n",
              "      <td>0</td>\n",
              "      <td>67500.0</td>\n",
              "      <td>152820.0</td>\n",
              "      <td>8901.0</td>\n",
              "      <td>...</td>\n",
              "      <td>0.767523</td>\n",
              "      <td>0.0</td>\n",
              "      <td>0.0</td>\n",
              "      <td>0.0</td>\n",
              "      <td>0.0</td>\n",
              "      <td>0.0</td>\n",
              "      <td>0.0</td>\n",
              "      <td>0.0</td>\n",
              "      <td>0.0</td>\n",
              "      <td>0.0</td>\n",
              "    </tr>\n",
              "    <tr>\n",
              "      <th>4</th>\n",
              "      <td>4</td>\n",
              "      <td>1</td>\n",
              "      <td>Cash loans</td>\n",
              "      <td>M</td>\n",
              "      <td>N</td>\n",
              "      <td>N</td>\n",
              "      <td>0</td>\n",
              "      <td>157500.0</td>\n",
              "      <td>271066.5</td>\n",
              "      <td>21546.0</td>\n",
              "      <td>...</td>\n",
              "      <td>0.669057</td>\n",
              "      <td>0.0</td>\n",
              "      <td>0.0</td>\n",
              "      <td>0.0</td>\n",
              "      <td>0.0</td>\n",
              "      <td>-1243.0</td>\n",
              "      <td>0.0</td>\n",
              "      <td>0.0</td>\n",
              "      <td>0.0</td>\n",
              "      <td>4.0</td>\n",
              "    </tr>\n",
              "    <tr>\n",
              "      <th>5</th>\n",
              "      <td>5</td>\n",
              "      <td>1</td>\n",
              "      <td>Cash loans</td>\n",
              "      <td>F</td>\n",
              "      <td>N</td>\n",
              "      <td>Y</td>\n",
              "      <td>0</td>\n",
              "      <td>135000.0</td>\n",
              "      <td>247500.0</td>\n",
              "      <td>19971.0</td>\n",
              "      <td>...</td>\n",
              "      <td>NaN</td>\n",
              "      <td>0.0</td>\n",
              "      <td>0.0</td>\n",
              "      <td>0.0</td>\n",
              "      <td>0.0</td>\n",
              "      <td>-307.0</td>\n",
              "      <td>NaN</td>\n",
              "      <td>NaN</td>\n",
              "      <td>NaN</td>\n",
              "      <td>NaN</td>\n",
              "    </tr>\n",
              "    <tr>\n",
              "      <th>6</th>\n",
              "      <td>6</td>\n",
              "      <td>0</td>\n",
              "      <td>Cash loans</td>\n",
              "      <td>F</td>\n",
              "      <td>N</td>\n",
              "      <td>Y</td>\n",
              "      <td>0</td>\n",
              "      <td>189000.0</td>\n",
              "      <td>332946.0</td>\n",
              "      <td>17127.0</td>\n",
              "      <td>...</td>\n",
              "      <td>0.399676</td>\n",
              "      <td>6.0</td>\n",
              "      <td>0.0</td>\n",
              "      <td>6.0</td>\n",
              "      <td>0.0</td>\n",
              "      <td>-1918.0</td>\n",
              "      <td>0.0</td>\n",
              "      <td>0.0</td>\n",
              "      <td>0.0</td>\n",
              "      <td>3.0</td>\n",
              "    </tr>\n",
              "    <tr>\n",
              "      <th>7</th>\n",
              "      <td>7</td>\n",
              "      <td>1</td>\n",
              "      <td>Cash loans</td>\n",
              "      <td>M</td>\n",
              "      <td>N</td>\n",
              "      <td>Y</td>\n",
              "      <td>0</td>\n",
              "      <td>157500.0</td>\n",
              "      <td>203760.0</td>\n",
              "      <td>24309.0</td>\n",
              "      <td>...</td>\n",
              "      <td>NaN</td>\n",
              "      <td>0.0</td>\n",
              "      <td>0.0</td>\n",
              "      <td>0.0</td>\n",
              "      <td>0.0</td>\n",
              "      <td>0.0</td>\n",
              "      <td>NaN</td>\n",
              "      <td>NaN</td>\n",
              "      <td>NaN</td>\n",
              "      <td>NaN</td>\n",
              "    </tr>\n",
              "    <tr>\n",
              "      <th>8</th>\n",
              "      <td>8</td>\n",
              "      <td>0</td>\n",
              "      <td>Cash loans</td>\n",
              "      <td>M</td>\n",
              "      <td>Y</td>\n",
              "      <td>N</td>\n",
              "      <td>1</td>\n",
              "      <td>324000.0</td>\n",
              "      <td>808650.0</td>\n",
              "      <td>22234.5</td>\n",
              "      <td>...</td>\n",
              "      <td>0.629674</td>\n",
              "      <td>1.0</td>\n",
              "      <td>0.0</td>\n",
              "      <td>1.0</td>\n",
              "      <td>0.0</td>\n",
              "      <td>-1.0</td>\n",
              "      <td>0.0</td>\n",
              "      <td>0.0</td>\n",
              "      <td>0.0</td>\n",
              "      <td>0.0</td>\n",
              "    </tr>\n",
              "    <tr>\n",
              "      <th>9</th>\n",
              "      <td>9</td>\n",
              "      <td>1</td>\n",
              "      <td>Cash loans</td>\n",
              "      <td>F</td>\n",
              "      <td>N</td>\n",
              "      <td>Y</td>\n",
              "      <td>1</td>\n",
              "      <td>180000.0</td>\n",
              "      <td>207117.0</td>\n",
              "      <td>16492.5</td>\n",
              "      <td>...</td>\n",
              "      <td>NaN</td>\n",
              "      <td>1.0</td>\n",
              "      <td>0.0</td>\n",
              "      <td>1.0</td>\n",
              "      <td>0.0</td>\n",
              "      <td>-905.0</td>\n",
              "      <td>NaN</td>\n",
              "      <td>NaN</td>\n",
              "      <td>NaN</td>\n",
              "      <td>NaN</td>\n",
              "    </tr>\n",
              "  </tbody>\n",
              "</table>\n",
              "<p>10 rows × 51 columns</p>\n",
              "</div>\n",
              "    <div class=\"colab-df-buttons\">\n",
              "\n",
              "  <div class=\"colab-df-container\">\n",
              "    <button class=\"colab-df-convert\" onclick=\"convertToInteractive('df-a883d96e-3982-418b-bedd-ccaab2a4394a')\"\n",
              "            title=\"Convert this dataframe to an interactive table.\"\n",
              "            style=\"display:none;\">\n",
              "\n",
              "  <svg xmlns=\"http://www.w3.org/2000/svg\" height=\"24px\" viewBox=\"0 -960 960 960\">\n",
              "    <path d=\"M120-120v-720h720v720H120Zm60-500h600v-160H180v160Zm220 220h160v-160H400v160Zm0 220h160v-160H400v160ZM180-400h160v-160H180v160Zm440 0h160v-160H620v160ZM180-180h160v-160H180v160Zm440 0h160v-160H620v160Z\"/>\n",
              "  </svg>\n",
              "    </button>\n",
              "\n",
              "  <style>\n",
              "    .colab-df-container {\n",
              "      display:flex;\n",
              "      gap: 12px;\n",
              "    }\n",
              "\n",
              "    .colab-df-convert {\n",
              "      background-color: #E8F0FE;\n",
              "      border: none;\n",
              "      border-radius: 50%;\n",
              "      cursor: pointer;\n",
              "      display: none;\n",
              "      fill: #1967D2;\n",
              "      height: 32px;\n",
              "      padding: 0 0 0 0;\n",
              "      width: 32px;\n",
              "    }\n",
              "\n",
              "    .colab-df-convert:hover {\n",
              "      background-color: #E2EBFA;\n",
              "      box-shadow: 0px 1px 2px rgba(60, 64, 67, 0.3), 0px 1px 3px 1px rgba(60, 64, 67, 0.15);\n",
              "      fill: #174EA6;\n",
              "    }\n",
              "\n",
              "    .colab-df-buttons div {\n",
              "      margin-bottom: 4px;\n",
              "    }\n",
              "\n",
              "    [theme=dark] .colab-df-convert {\n",
              "      background-color: #3B4455;\n",
              "      fill: #D2E3FC;\n",
              "    }\n",
              "\n",
              "    [theme=dark] .colab-df-convert:hover {\n",
              "      background-color: #434B5C;\n",
              "      box-shadow: 0px 1px 3px 1px rgba(0, 0, 0, 0.15);\n",
              "      filter: drop-shadow(0px 1px 2px rgba(0, 0, 0, 0.3));\n",
              "      fill: #FFFFFF;\n",
              "    }\n",
              "  </style>\n",
              "\n",
              "    <script>\n",
              "      const buttonEl =\n",
              "        document.querySelector('#df-a883d96e-3982-418b-bedd-ccaab2a4394a button.colab-df-convert');\n",
              "      buttonEl.style.display =\n",
              "        google.colab.kernel.accessAllowed ? 'block' : 'none';\n",
              "\n",
              "      async function convertToInteractive(key) {\n",
              "        const element = document.querySelector('#df-a883d96e-3982-418b-bedd-ccaab2a4394a');\n",
              "        const dataTable =\n",
              "          await google.colab.kernel.invokeFunction('convertToInteractive',\n",
              "                                                    [key], {});\n",
              "        if (!dataTable) return;\n",
              "\n",
              "        const docLinkHtml = 'Like what you see? Visit the ' +\n",
              "          '<a target=\"_blank\" href=https://colab.research.google.com/notebooks/data_table.ipynb>data table notebook</a>'\n",
              "          + ' to learn more about interactive tables.';\n",
              "        element.innerHTML = '';\n",
              "        dataTable['output_type'] = 'display_data';\n",
              "        await google.colab.output.renderOutput(dataTable, element);\n",
              "        const docLink = document.createElement('div');\n",
              "        docLink.innerHTML = docLinkHtml;\n",
              "        element.appendChild(docLink);\n",
              "      }\n",
              "    </script>\n",
              "  </div>\n",
              "\n",
              "\n",
              "<div id=\"df-7d358a8b-bab9-435e-8960-1eba33e822b9\">\n",
              "  <button class=\"colab-df-quickchart\" onclick=\"quickchart('df-7d358a8b-bab9-435e-8960-1eba33e822b9')\"\n",
              "            title=\"Suggest charts\"\n",
              "            style=\"display:none;\">\n",
              "\n",
              "<svg xmlns=\"http://www.w3.org/2000/svg\" height=\"24px\"viewBox=\"0 0 24 24\"\n",
              "     width=\"24px\">\n",
              "    <g>\n",
              "        <path d=\"M19 3H5c-1.1 0-2 .9-2 2v14c0 1.1.9 2 2 2h14c1.1 0 2-.9 2-2V5c0-1.1-.9-2-2-2zM9 17H7v-7h2v7zm4 0h-2V7h2v10zm4 0h-2v-4h2v4z\"/>\n",
              "    </g>\n",
              "</svg>\n",
              "  </button>\n",
              "\n",
              "<style>\n",
              "  .colab-df-quickchart {\n",
              "      --bg-color: #E8F0FE;\n",
              "      --fill-color: #1967D2;\n",
              "      --hover-bg-color: #E2EBFA;\n",
              "      --hover-fill-color: #174EA6;\n",
              "      --disabled-fill-color: #AAA;\n",
              "      --disabled-bg-color: #DDD;\n",
              "  }\n",
              "\n",
              "  [theme=dark] .colab-df-quickchart {\n",
              "      --bg-color: #3B4455;\n",
              "      --fill-color: #D2E3FC;\n",
              "      --hover-bg-color: #434B5C;\n",
              "      --hover-fill-color: #FFFFFF;\n",
              "      --disabled-bg-color: #3B4455;\n",
              "      --disabled-fill-color: #666;\n",
              "  }\n",
              "\n",
              "  .colab-df-quickchart {\n",
              "    background-color: var(--bg-color);\n",
              "    border: none;\n",
              "    border-radius: 50%;\n",
              "    cursor: pointer;\n",
              "    display: none;\n",
              "    fill: var(--fill-color);\n",
              "    height: 32px;\n",
              "    padding: 0;\n",
              "    width: 32px;\n",
              "  }\n",
              "\n",
              "  .colab-df-quickchart:hover {\n",
              "    background-color: var(--hover-bg-color);\n",
              "    box-shadow: 0 1px 2px rgba(60, 64, 67, 0.3), 0 1px 3px 1px rgba(60, 64, 67, 0.15);\n",
              "    fill: var(--button-hover-fill-color);\n",
              "  }\n",
              "\n",
              "  .colab-df-quickchart-complete:disabled,\n",
              "  .colab-df-quickchart-complete:disabled:hover {\n",
              "    background-color: var(--disabled-bg-color);\n",
              "    fill: var(--disabled-fill-color);\n",
              "    box-shadow: none;\n",
              "  }\n",
              "\n",
              "  .colab-df-spinner {\n",
              "    border: 2px solid var(--fill-color);\n",
              "    border-color: transparent;\n",
              "    border-bottom-color: var(--fill-color);\n",
              "    animation:\n",
              "      spin 1s steps(1) infinite;\n",
              "  }\n",
              "\n",
              "  @keyframes spin {\n",
              "    0% {\n",
              "      border-color: transparent;\n",
              "      border-bottom-color: var(--fill-color);\n",
              "      border-left-color: var(--fill-color);\n",
              "    }\n",
              "    20% {\n",
              "      border-color: transparent;\n",
              "      border-left-color: var(--fill-color);\n",
              "      border-top-color: var(--fill-color);\n",
              "    }\n",
              "    30% {\n",
              "      border-color: transparent;\n",
              "      border-left-color: var(--fill-color);\n",
              "      border-top-color: var(--fill-color);\n",
              "      border-right-color: var(--fill-color);\n",
              "    }\n",
              "    40% {\n",
              "      border-color: transparent;\n",
              "      border-right-color: var(--fill-color);\n",
              "      border-top-color: var(--fill-color);\n",
              "    }\n",
              "    60% {\n",
              "      border-color: transparent;\n",
              "      border-right-color: var(--fill-color);\n",
              "    }\n",
              "    80% {\n",
              "      border-color: transparent;\n",
              "      border-right-color: var(--fill-color);\n",
              "      border-bottom-color: var(--fill-color);\n",
              "    }\n",
              "    90% {\n",
              "      border-color: transparent;\n",
              "      border-bottom-color: var(--fill-color);\n",
              "    }\n",
              "  }\n",
              "</style>\n",
              "\n",
              "  <script>\n",
              "    async function quickchart(key) {\n",
              "      const quickchartButtonEl =\n",
              "        document.querySelector('#' + key + ' button');\n",
              "      quickchartButtonEl.disabled = true;  // To prevent multiple clicks.\n",
              "      quickchartButtonEl.classList.add('colab-df-spinner');\n",
              "      try {\n",
              "        const charts = await google.colab.kernel.invokeFunction(\n",
              "            'suggestCharts', [key], {});\n",
              "      } catch (error) {\n",
              "        console.error('Error during call to suggestCharts:', error);\n",
              "      }\n",
              "      quickchartButtonEl.classList.remove('colab-df-spinner');\n",
              "      quickchartButtonEl.classList.add('colab-df-quickchart-complete');\n",
              "    }\n",
              "    (() => {\n",
              "      let quickchartButtonEl =\n",
              "        document.querySelector('#df-7d358a8b-bab9-435e-8960-1eba33e822b9 button');\n",
              "      quickchartButtonEl.style.display =\n",
              "        google.colab.kernel.accessAllowed ? 'block' : 'none';\n",
              "    })();\n",
              "  </script>\n",
              "</div>\n",
              "\n",
              "    </div>\n",
              "  </div>\n"
            ],
            "application/vnd.google.colaboratory.intrinsic+json": {
              "type": "dataframe",
              "variable_name": "train"
            }
          },
          "metadata": {},
          "execution_count": 6
        },
        {
          "output_type": "stream",
          "name": "stdout",
          "text": [
            "Warning: Total number of columns (51) exceeds max_columns (20) limiting to first (20) columns.\n"
          ]
        }
      ]
    },
    {
      "cell_type": "code",
      "source": [
        "# 欠損値の数と割合を計算\n",
        "missing_values = train.isnull().sum()\n",
        "missing_percentage = (missing_values / len(train)) * 100\n",
        "\n",
        "# データフレーム化してソート\n",
        "missing_summary_train = pd.DataFrame({\n",
        "    '欠損値数': missing_values,\n",
        "    '割合': missing_percentage\n",
        "}).sort_values(by='割合', ascending=False)\n",
        "\n",
        "# 欠損値がある列だけを出力\n",
        "missing_summary_train = missing_summary_train[missing_summary_train['欠損値数'] > 0]\n",
        "\n",
        "print(missing_summary_train)\n"
      ],
      "metadata": {
        "colab": {
          "base_uri": "https://localhost:8080/"
        },
        "id": "V7nCT8o5QniN",
        "outputId": "debaeb83-2a19-4a76-e0a2-9b4b5b6c58b8"
      },
      "execution_count": null,
      "outputs": [
        {
          "output_type": "stream",
          "name": "stdout",
          "text": [
            "                              欠損値数         割合\n",
            "EXT_SOURCE_1                118928  69.466478\n",
            "OWN_CAR_AGE                 112992  65.999229\n",
            "EXT_SOURCE_3                 54586  31.883973\n",
            "OCCUPATION_TYPE              53745  31.392741\n",
            "FLAG_OWN_CAR                 34241  20.000350\n",
            "FLAG_OWN_REALTY              34241  20.000350\n",
            "AMT_REQ_CREDIT_BUREAU_YEAR   23116  13.502179\n",
            "AMT_REQ_CREDIT_BUREAU_QRT    23116  13.502179\n",
            "AMT_REQ_CREDIT_BUREAU_MON    23116  13.502179\n",
            "AMT_REQ_CREDIT_BUREAU_HOUR   23116  13.502179\n",
            "NAME_TYPE_SUITE                747   0.436327\n",
            "DEF_30_CNT_SOCIAL_CIRCLE       560   0.327099\n",
            "OBS_30_CNT_SOCIAL_CIRCLE       560   0.327099\n",
            "DEF_60_CNT_SOCIAL_CIRCLE       560   0.327099\n",
            "OBS_60_CNT_SOCIAL_CIRCLE       560   0.327099\n",
            "EXT_SOURCE_2                   369   0.215535\n",
            "AMT_GOODS_PRICE                163   0.095209\n",
            "EXT_SOURCE_MEAN                117   0.068340\n",
            "AMT_ANNUITY                      6   0.003505\n",
            "CNT_FAM_MEMBERS                  2   0.001168\n",
            "DAYS_LAST_PHONE_CHANGE           1   0.000584\n"
          ]
        }
      ]
    },
    {
      "cell_type": "code",
      "source": [
        "# 欠損値の数と割合を計算\n",
        "missing_values_test = test.isnull().sum()\n",
        "missing_percentage_test = (missing_values_test / len(test)) * 100\n",
        "\n",
        "# データフレーム化してソート\n",
        "missing_summary_test = pd.DataFrame({\n",
        "    '欠損値数': missing_values_test,\n",
        "    '割合': missing_percentage_test\n",
        "}).sort_values(by='割合', ascending=False)\n",
        "\n",
        "# 欠損値がある列だけを出力\n",
        "missing_summary_test = missing_summary_test[missing_summary_test['欠損値数'] > 0]\n",
        "\n",
        "print(missing_summary_test)\n"
      ],
      "metadata": {
        "colab": {
          "base_uri": "https://localhost:8080/"
        },
        "id": "7yqsuZy5NAEw",
        "outputId": "a3cf05d8-0eb4-40ec-ef3d-98d6a649d26c"
      },
      "execution_count": null,
      "outputs": [
        {
          "output_type": "stream",
          "name": "stdout",
          "text": [
            "                             欠損値数         割合\n",
            "EXT_SOURCE_1                42912  69.775610\n",
            "OWN_CAR_AGE                 40909  66.518699\n",
            "EXT_SOURCE_3                19690  32.016260\n",
            "OCCUPATION_TYPE             18734  30.461789\n",
            "FLAG_OWN_CAR                12334  20.055285\n",
            "FLAG_OWN_REALTY             12334  20.055285\n",
            "AMT_REQ_CREDIT_BUREAU_YEAR   8513  13.842276\n",
            "AMT_REQ_CREDIT_BUREAU_MON    8513  13.842276\n",
            "AMT_REQ_CREDIT_BUREAU_QRT    8513  13.842276\n",
            "AMT_REQ_CREDIT_BUREAU_HOUR   8513  13.842276\n",
            "NAME_TYPE_SUITE               248   0.403252\n",
            "DEF_30_CNT_SOCIAL_CIRCLE      181   0.294309\n",
            "OBS_30_CNT_SOCIAL_CIRCLE      181   0.294309\n",
            "OBS_60_CNT_SOCIAL_CIRCLE      181   0.294309\n",
            "DEF_60_CNT_SOCIAL_CIRCLE      181   0.294309\n",
            "EXT_SOURCE_2                  130   0.211382\n",
            "AMT_GOODS_PRICE                53   0.086179\n",
            "AMT_ANNUITY                     3   0.004878\n"
          ]
        }
      ]
    },
    {
      "cell_type": "markdown",
      "source": [
        "###EXT_SOURCE_MEANの処理"
      ],
      "metadata": {
        "id": "HHDNGaGV5sgl"
      }
    },
    {
      "cell_type": "markdown",
      "source": [
        "EXT_SOURCE\n",
        "外部の正規化スコアだから外部の評価だから結構大事そう\n",
        "\n",
        "新しい特徴量 EXT_SOURCE_MEAN を作成する。この特徴量は、EXT_SOURCE_1、EXT_SOURCE_2、EXT_SOURCE_3 の非欠損値の平均としよう！\n"
      ],
      "metadata": {
        "id": "I3JheI3eZhzB"
      }
    },
    {
      "cell_type": "code",
      "source": [
        "#新しい特徴量 \"EXT_SOURCE_MEAN\" は非欠損値の平均\n",
        "#axis=1は行方向、skipna=Trueは欠損値を無視\n",
        "train['EXT_SOURCE_MEAN'] = train[['EXT_SOURCE_1', 'EXT_SOURCE_2', 'EXT_SOURCE_3']].mean(axis=1, skipna=True)\n",
        "\n",
        "train['EXT_SOURCE_MEAN'].isnull().sum()"
      ],
      "metadata": {
        "colab": {
          "base_uri": "https://localhost:8080/"
        },
        "id": "jzOz72OARyH9",
        "outputId": "f91c9eed-49ea-4741-fc60-d8db53c33bf6"
      },
      "execution_count": null,
      "outputs": [
        {
          "output_type": "execute_result",
          "data": {
            "text/plain": [
              "117"
            ]
          },
          "metadata": {},
          "execution_count": 9
        }
      ]
    },
    {
      "cell_type": "code",
      "source": [
        "#新しい特徴量 \"EXT_SOURCE_MEAN\" は非欠損値の平均\n",
        "#axis=1は行方向、skipna=Trueは欠損値を無視\n",
        "test['EXT_SOURCE_MEAN'] = test[['EXT_SOURCE_1', 'EXT_SOURCE_2', 'EXT_SOURCE_3']].mean(axis=1, skipna=True)\n",
        "\n",
        "test['EXT_SOURCE_MEAN'].isnull().sum()"
      ],
      "metadata": {
        "colab": {
          "base_uri": "https://localhost:8080/"
        },
        "id": "YuA9FSBD5LC8",
        "outputId": "c887e343-218f-413e-c9cc-11b7d432d6f5"
      },
      "execution_count": null,
      "outputs": [
        {
          "output_type": "execute_result",
          "data": {
            "text/plain": [
              "43"
            ]
          },
          "metadata": {},
          "execution_count": 13
        }
      ]
    },
    {
      "cell_type": "markdown",
      "source": [
        "欠損値はあるけど、後で考えてみようと思う"
      ],
      "metadata": {
        "id": "-WJnZgK5bC5m"
      }
    },
    {
      "cell_type": "markdown",
      "source": [
        "### OCCUPATION_TYPEの処理"
      ],
      "metadata": {
        "id": "5Xoo73e955Jq"
      }
    },
    {
      "cell_type": "code",
      "source": [
        "train['OCCUPATION_TYPE']"
      ],
      "metadata": {
        "colab": {
          "base_uri": "https://localhost:8080/",
          "height": 458
        },
        "id": "YukRjvMjRykT",
        "outputId": "d4cccbaf-6b67-494c-9a85-0af080b017ce"
      },
      "execution_count": null,
      "outputs": [
        {
          "output_type": "execute_result",
          "data": {
            "text/plain": [
              "0            Core staff\n",
              "1                   NaN\n",
              "2            Core staff\n",
              "3                   NaN\n",
              "4               Drivers\n",
              "              ...      \n",
              "171197         Laborers\n",
              "171198    Cooking staff\n",
              "171199       Core staff\n",
              "171200      Sales staff\n",
              "171201       Core staff\n",
              "Name: OCCUPATION_TYPE, Length: 171202, dtype: object"
            ],
            "text/html": [
              "<div>\n",
              "<style scoped>\n",
              "    .dataframe tbody tr th:only-of-type {\n",
              "        vertical-align: middle;\n",
              "    }\n",
              "\n",
              "    .dataframe tbody tr th {\n",
              "        vertical-align: top;\n",
              "    }\n",
              "\n",
              "    .dataframe thead th {\n",
              "        text-align: right;\n",
              "    }\n",
              "</style>\n",
              "<table border=\"1\" class=\"dataframe\">\n",
              "  <thead>\n",
              "    <tr style=\"text-align: right;\">\n",
              "      <th></th>\n",
              "      <th>OCCUPATION_TYPE</th>\n",
              "    </tr>\n",
              "  </thead>\n",
              "  <tbody>\n",
              "    <tr>\n",
              "      <th>0</th>\n",
              "      <td>Core staff</td>\n",
              "    </tr>\n",
              "    <tr>\n",
              "      <th>1</th>\n",
              "      <td>NaN</td>\n",
              "    </tr>\n",
              "    <tr>\n",
              "      <th>2</th>\n",
              "      <td>Core staff</td>\n",
              "    </tr>\n",
              "    <tr>\n",
              "      <th>3</th>\n",
              "      <td>NaN</td>\n",
              "    </tr>\n",
              "    <tr>\n",
              "      <th>4</th>\n",
              "      <td>Drivers</td>\n",
              "    </tr>\n",
              "    <tr>\n",
              "      <th>...</th>\n",
              "      <td>...</td>\n",
              "    </tr>\n",
              "    <tr>\n",
              "      <th>171197</th>\n",
              "      <td>Laborers</td>\n",
              "    </tr>\n",
              "    <tr>\n",
              "      <th>171198</th>\n",
              "      <td>Cooking staff</td>\n",
              "    </tr>\n",
              "    <tr>\n",
              "      <th>171199</th>\n",
              "      <td>Core staff</td>\n",
              "    </tr>\n",
              "    <tr>\n",
              "      <th>171200</th>\n",
              "      <td>Sales staff</td>\n",
              "    </tr>\n",
              "    <tr>\n",
              "      <th>171201</th>\n",
              "      <td>Core staff</td>\n",
              "    </tr>\n",
              "  </tbody>\n",
              "</table>\n",
              "<p>171202 rows × 1 columns</p>\n",
              "</div><br><label><b>dtype:</b> object</label>"
            ]
          },
          "metadata": {},
          "execution_count": 11
        }
      ]
    },
    {
      "cell_type": "code",
      "source": [
        "test['OCCUPATION_TYPE']"
      ],
      "metadata": {
        "colab": {
          "base_uri": "https://localhost:8080/",
          "height": 458
        },
        "id": "yWlmFZts5U-h",
        "outputId": "9cf01449-0012-4702-f069-5b4ac1f6fc0b"
      },
      "execution_count": null,
      "outputs": [
        {
          "output_type": "execute_result",
          "data": {
            "text/plain": [
              "0        Medicine staff\n",
              "1        Cleaning staff\n",
              "2                   NaN\n",
              "3                   NaN\n",
              "4                   NaN\n",
              "              ...      \n",
              "61495          Managers\n",
              "61496       Sales staff\n",
              "61497       Accountants\n",
              "61498               NaN\n",
              "61499          Laborers\n",
              "Name: OCCUPATION_TYPE, Length: 61500, dtype: object"
            ],
            "text/html": [
              "<div>\n",
              "<style scoped>\n",
              "    .dataframe tbody tr th:only-of-type {\n",
              "        vertical-align: middle;\n",
              "    }\n",
              "\n",
              "    .dataframe tbody tr th {\n",
              "        vertical-align: top;\n",
              "    }\n",
              "\n",
              "    .dataframe thead th {\n",
              "        text-align: right;\n",
              "    }\n",
              "</style>\n",
              "<table border=\"1\" class=\"dataframe\">\n",
              "  <thead>\n",
              "    <tr style=\"text-align: right;\">\n",
              "      <th></th>\n",
              "      <th>OCCUPATION_TYPE</th>\n",
              "    </tr>\n",
              "  </thead>\n",
              "  <tbody>\n",
              "    <tr>\n",
              "      <th>0</th>\n",
              "      <td>Medicine staff</td>\n",
              "    </tr>\n",
              "    <tr>\n",
              "      <th>1</th>\n",
              "      <td>Cleaning staff</td>\n",
              "    </tr>\n",
              "    <tr>\n",
              "      <th>2</th>\n",
              "      <td>NaN</td>\n",
              "    </tr>\n",
              "    <tr>\n",
              "      <th>3</th>\n",
              "      <td>NaN</td>\n",
              "    </tr>\n",
              "    <tr>\n",
              "      <th>4</th>\n",
              "      <td>NaN</td>\n",
              "    </tr>\n",
              "    <tr>\n",
              "      <th>...</th>\n",
              "      <td>...</td>\n",
              "    </tr>\n",
              "    <tr>\n",
              "      <th>61495</th>\n",
              "      <td>Managers</td>\n",
              "    </tr>\n",
              "    <tr>\n",
              "      <th>61496</th>\n",
              "      <td>Sales staff</td>\n",
              "    </tr>\n",
              "    <tr>\n",
              "      <th>61497</th>\n",
              "      <td>Accountants</td>\n",
              "    </tr>\n",
              "    <tr>\n",
              "      <th>61498</th>\n",
              "      <td>NaN</td>\n",
              "    </tr>\n",
              "    <tr>\n",
              "      <th>61499</th>\n",
              "      <td>Laborers</td>\n",
              "    </tr>\n",
              "  </tbody>\n",
              "</table>\n",
              "<p>61500 rows × 1 columns</p>\n",
              "</div><br><label><b>dtype:</b> object</label>"
            ]
          },
          "metadata": {},
          "execution_count": 14
        }
      ]
    },
    {
      "cell_type": "markdown",
      "source": [
        "OCCUPATION_TYPE_MISSING を作成\n",
        "\n",
        "\n",
        "この特徴量は、OCCUPATION_TYPE 列が欠損している場合は 1、そうでない場合は 0"
      ],
      "metadata": {
        "id": "md5tytRegOaG"
      }
    },
    {
      "cell_type": "code",
      "source": [
        "#職業の種類について欠損値がある場合は1、そうでない場合は0\n",
        "#答えていない人はおそらく無職と予想します\n",
        "#isnull()は、True（欠損）または False（欠損でない）のブール型（bool）の値が返される\n",
        "#astype isnull() が返す True または False を整数型（int）に変換\n",
        "train['OCCUPATION_TYPE_MISSING'] = train['OCCUPATION_TYPE'].isnull().astype(int)\n",
        "\n",
        "train['OCCUPATION_TYPE_MISSING'].isnull().sum()\n"
      ],
      "metadata": {
        "colab": {
          "base_uri": "https://localhost:8080/"
        },
        "id": "vRMIQJ6JRyxl",
        "outputId": "e7027c23-7a73-464c-96e1-1f0aa855701a"
      },
      "execution_count": null,
      "outputs": [
        {
          "output_type": "execute_result",
          "data": {
            "text/plain": [
              "0"
            ]
          },
          "metadata": {},
          "execution_count": 12
        }
      ]
    },
    {
      "cell_type": "code",
      "source": [
        "#職業の種類について欠損値がある場合は1、そうでない場合は0\n",
        "#答えていない人はおそらく無職と予想します\n",
        "#isnull()は、True（欠損）または False（欠損でない）のブール型（bool）の値が返される\n",
        "#astype isnull() が返す True または False を整数型（int）に変換\n",
        "test['OCCUPATION_TYPE_MISSING'] = test['OCCUPATION_TYPE'].isnull().astype(int)\n",
        "\n",
        "test['OCCUPATION_TYPE_MISSING'].isnull().sum()\n"
      ],
      "metadata": {
        "colab": {
          "base_uri": "https://localhost:8080/"
        },
        "id": "SZPb2Yrr5clM",
        "outputId": "adafdfb3-a9eb-4ad4-882a-8ce8c024e0f0"
      },
      "execution_count": null,
      "outputs": [
        {
          "output_type": "execute_result",
          "data": {
            "text/plain": [
              "0"
            ]
          },
          "metadata": {},
          "execution_count": 15
        }
      ]
    },
    {
      "cell_type": "markdown",
      "source": [
        "### #AMT_INCOME_TOTALの処理\n",
        "\n",
        "クライアントの収入"
      ],
      "metadata": {
        "id": "QYvtreEt7BDI"
      }
    },
    {
      "cell_type": "code",
      "source": [
        "# AMT_INCOME_TOTALの分布\n",
        "sns.displot(data=train, x=\"AMT_INCOME_TOTAL\")\n",
        "plt.show()"
      ],
      "metadata": {
        "id": "6Sv2c4OYRy8D",
        "colab": {
          "base_uri": "https://localhost:8080/",
          "height": 506
        },
        "outputId": "b4e07a46-bfbf-4585-e672-eebcc6249e93"
      },
      "execution_count": null,
      "outputs": [
        {
          "output_type": "display_data",
          "data": {
            "text/plain": [
              "<Figure size 500x500 with 1 Axes>"
            ],
            "image/png": "[encoded data removed]"
          },
          "metadata": {}
        }
      ]
    },
    {
      "cell_type": "markdown",
      "source": [
        "AMT_INCOME_TOTALは、通常通り可視化してもうまくグラフが表示されていません。このような場合には、大きな数値を取る少数の外れ値が存在することが原因であると考えられます。今回のようなデータを可視化したい場合は、対数変換を行うと上手くグラフを表示することができます。"
      ],
      "metadata": {
        "id": "HjnQ3ko27MHx"
      }
    },
    {
      "cell_type": "code",
      "source": [
        "# AMT_INCOME_TOTALの分布（対数変換）\n",
        "sns.displot(data=train, x=\"AMT_INCOME_TOTAL\", log_scale=10)\n",
        "plt.show()"
      ],
      "metadata": {
        "id": "zZswv5LIRzGV",
        "colab": {
          "base_uri": "https://localhost:8080/",
          "height": 506
        },
        "outputId": "42770eb2-9c7a-4c44-9411-67f53d999588"
      },
      "execution_count": null,
      "outputs": [
        {
          "output_type": "display_data",
          "data": {
            "text/plain": [
              "<Figure size 500x500 with 1 Axes>"
            ],
            "image/png": "[encoded data removed]"
          },
          "metadata": {}
        }
      ]
    },
    {
      "cell_type": "markdown",
      "source": [
        "対数変換してグラフを描画することで、うまく表示することができました。しかし、年収というのは本来連続的な値を取るはずなのに、グラフをみると離散的な値をとっているようです。AMT_INCOME_TOTALの値の種類を確認してみましょう。"
      ],
      "metadata": {
        "id": "gStktFNh7Xk5"
      }
    },
    {
      "cell_type": "code",
      "source": [
        "# AMT_INCOME_TOTALの値の種類を確認\n",
        "len(train[\"AMT_INCOME_TOTAL\"].unique())"
      ],
      "metadata": {
        "id": "HaN87oq7RzPR",
        "colab": {
          "base_uri": "https://localhost:8080/"
        },
        "outputId": "03fa912b-14d9-46b2-9060-a0431d6f4ca6"
      },
      "execution_count": null,
      "outputs": [
        {
          "output_type": "execute_result",
          "data": {
            "text/plain": [
              "1641"
            ]
          },
          "metadata": {},
          "execution_count": 20
        }
      ]
    },
    {
      "cell_type": "markdown",
      "source": [
        "trainには171202個のデータが存在するのですが、AMT_INCOME_TOTALは1641種類の値のみで構成されています。具体的に上位10個の値を確認してみましょう。"
      ],
      "metadata": {
        "id": "f2sc5I8n7kH_"
      }
    },
    {
      "cell_type": "code",
      "source": [
        "# AMT_INCOME_TOTALの上位10個\n",
        "train[\"AMT_INCOME_TOTAL\"].value_counts().head(10)"
      ],
      "metadata": {
        "colab": {
          "base_uri": "https://localhost:8080/",
          "height": 429
        },
        "id": "hrYfBRZc7b1y",
        "outputId": "b71df12f-e148-4122-ef15-772ddcf553a0"
      },
      "execution_count": null,
      "outputs": [
        {
          "output_type": "execute_result",
          "data": {
            "text/plain": [
              "AMT_INCOME_TOTAL\n",
              "135000.0    19969\n",
              "112500.0    17320\n",
              "157500.0    14772\n",
              "180000.0    13791\n",
              "90000.0     12481\n",
              "225000.0    11573\n",
              "202500.0     9128\n",
              "67500.0      6130\n",
              "270000.0     6006\n",
              "81000.0      3295\n",
              "Name: count, dtype: int64"
            ],
            "text/html": [
              "<div>\n",
              "<style scoped>\n",
              "    .dataframe tbody tr th:only-of-type {\n",
              "        vertical-align: middle;\n",
              "    }\n",
              "\n",
              "    .dataframe tbody tr th {\n",
              "        vertical-align: top;\n",
              "    }\n",
              "\n",
              "    .dataframe thead th {\n",
              "        text-align: right;\n",
              "    }\n",
              "</style>\n",
              "<table border=\"1\" class=\"dataframe\">\n",
              "  <thead>\n",
              "    <tr style=\"text-align: right;\">\n",
              "      <th></th>\n",
              "      <th>count</th>\n",
              "    </tr>\n",
              "    <tr>\n",
              "      <th>AMT_INCOME_TOTAL</th>\n",
              "      <th></th>\n",
              "    </tr>\n",
              "  </thead>\n",
              "  <tbody>\n",
              "    <tr>\n",
              "      <th>135000.0</th>\n",
              "      <td>19969</td>\n",
              "    </tr>\n",
              "    <tr>\n",
              "      <th>112500.0</th>\n",
              "      <td>17320</td>\n",
              "    </tr>\n",
              "    <tr>\n",
              "      <th>157500.0</th>\n",
              "      <td>14772</td>\n",
              "    </tr>\n",
              "    <tr>\n",
              "      <th>180000.0</th>\n",
              "      <td>13791</td>\n",
              "    </tr>\n",
              "    <tr>\n",
              "      <th>90000.0</th>\n",
              "      <td>12481</td>\n",
              "    </tr>\n",
              "    <tr>\n",
              "      <th>225000.0</th>\n",
              "      <td>11573</td>\n",
              "    </tr>\n",
              "    <tr>\n",
              "      <th>202500.0</th>\n",
              "      <td>9128</td>\n",
              "    </tr>\n",
              "    <tr>\n",
              "      <th>67500.0</th>\n",
              "      <td>6130</td>\n",
              "    </tr>\n",
              "    <tr>\n",
              "      <th>270000.0</th>\n",
              "      <td>6006</td>\n",
              "    </tr>\n",
              "    <tr>\n",
              "      <th>81000.0</th>\n",
              "      <td>3295</td>\n",
              "    </tr>\n",
              "  </tbody>\n",
              "</table>\n",
              "</div><br><label><b>dtype:</b> int64</label>"
            ]
          },
          "metadata": {},
          "execution_count": 21
        }
      ]
    },
    {
      "cell_type": "markdown",
      "source": [
        "どうやらAMT_INCOME_TOTALは正確な年収ではなく、きりの良い数字で集計されたデータであることが分かりました。"
      ],
      "metadata": {
        "id": "hnyHdYec7s1U"
      }
    },
    {
      "cell_type": "markdown",
      "source": [
        "### NAME_CONTRACT_TYPEの前処理\n",
        "\n",
        "\n"
      ],
      "metadata": {
        "id": "aP05CG1x8sNi"
      }
    },
    {
      "cell_type": "code",
      "source": [
        "print(train['NAME_INCOME_TYPE'].isnull().sum())\n",
        "print(test['NAME_INCOME_TYPE'].isnull().sum())\n"
      ],
      "metadata": {
        "colab": {
          "base_uri": "https://localhost:8080/"
        },
        "id": "olhmLmpC82mF",
        "outputId": "77b13996-186d-4500-8272-d0770fcdf963"
      },
      "execution_count": null,
      "outputs": [
        {
          "output_type": "stream",
          "name": "stdout",
          "text": [
            "0\n",
            "0\n"
          ]
        }
      ]
    },
    {
      "cell_type": "code",
      "source": [
        "# NAME_CONTRACT_TYPEの分布\n",
        "sns.countplot(data=train, x=\"NAME_CONTRACT_TYPE\")\n",
        "plt.show()"
      ],
      "metadata": {
        "colab": {
          "base_uri": "https://localhost:8080/",
          "height": 449
        },
        "id": "oXjLciOn7vX8",
        "outputId": "ac570273-7cde-4ea9-ab16-942f0e717fb5"
      },
      "execution_count": null,
      "outputs": [
        {
          "output_type": "display_data",
          "data": {
            "text/plain": [
              "<Figure size 640x480 with 1 Axes>"
            ],
            "image/png": "[encoded data removed]"
          },
          "metadata": {}
        }
      ]
    },
    {
      "cell_type": "markdown",
      "source": [
        "NAME_CONTRACT_TYPEには、Cash loansとRevolving loansという2種類の変数が存在しますが、大きく偏りがあることが分かります。また、機械学習モデルでは数値型のデータしか扱えないため、文字列型から数値型に変換する必要があります。"
      ],
      "metadata": {
        "id": "LFuxxFWK9Zo_"
      }
    },
    {
      "cell_type": "markdown",
      "source": [
        "NAME_CONTRACT_TYPEを数値型に変換します。今回は、「Cash loans」を0に「Revolving loans」を1に変換します。このように、単純に整数に置き換える手法をLabel Encodingと呼びます。"
      ],
      "metadata": {
        "id": "zUg4XG7X9fhS"
      }
    },
    {
      "cell_type": "code",
      "source": [
        "# NAME_CONTRACT_TYPEの数値化（Label Encoding）\n",
        "train[\"NAME_CONTRACT_TYPE\"].replace({'Cash loans': 0, 'Revolving loans': 1}, inplace=True)\n",
        "test[\"NAME_CONTRACT_TYPE\"].replace({'Cash loans': 0, 'Revolving loans': 1}, inplace=True)\n",
        "\n",
        "train.head(5)"
      ],
      "metadata": {
        "colab": {
          "base_uri": "https://localhost:8080/",
          "height": 256
        },
        "id": "uK6bSA3s8_Wz",
        "outputId": "e665ad33-670d-4389-be81-4abdb70fb046"
      },
      "execution_count": null,
      "outputs": [
        {
          "output_type": "execute_result",
          "data": {
            "text/plain": [
              "   SK_ID_CURR  TARGET  NAME_CONTRACT_TYPE CODE_GENDER FLAG_OWN_CAR  \\\n",
              "0           0       0                   0           F            N   \n",
              "1           1       0                   0           F            N   \n",
              "2           2       0                   0           F            N   \n",
              "3           3       0                   0           F            N   \n",
              "4           4       1                   0           M            N   \n",
              "\n",
              "  FLAG_OWN_REALTY  CNT_CHILDREN  AMT_INCOME_TOTAL  AMT_CREDIT  AMT_ANNUITY  \\\n",
              "0               N             0          112500.0    755190.0      36328.5   \n",
              "1               Y             0          225000.0    585000.0      16893.0   \n",
              "2               Y             0           54000.0    334152.0      18256.5   \n",
              "3               Y             0           67500.0    152820.0       8901.0   \n",
              "4               N             0          157500.0    271066.5      21546.0   \n",
              "\n",
              "   ...  DEF_30_CNT_SOCIAL_CIRCLE OBS_60_CNT_SOCIAL_CIRCLE  \\\n",
              "0  ...                       0.0                      0.0   \n",
              "1  ...                       0.0                      0.0   \n",
              "2  ...                       0.0                      4.0   \n",
              "3  ...                       0.0                      0.0   \n",
              "4  ...                       0.0                      0.0   \n",
              "\n",
              "  DEF_60_CNT_SOCIAL_CIRCLE DAYS_LAST_PHONE_CHANGE AMT_REQ_CREDIT_BUREAU_HOUR  \\\n",
              "0                      0.0                 -292.0                        NaN   \n",
              "1                      0.0                 -617.0                        0.0   \n",
              "2                      0.0                 -542.0                        NaN   \n",
              "3                      0.0                    0.0                        0.0   \n",
              "4                      0.0                -1243.0                        0.0   \n",
              "\n",
              "  AMT_REQ_CREDIT_BUREAU_MON  AMT_REQ_CREDIT_BUREAU_QRT  \\\n",
              "0                       NaN                        NaN   \n",
              "1                       0.0                        0.0   \n",
              "2                       NaN                        NaN   \n",
              "3                       0.0                        0.0   \n",
              "4                       0.0                        0.0   \n",
              "\n",
              "   AMT_REQ_CREDIT_BUREAU_YEAR  EXT_SOURCE_MEAN  OCCUPATION_TYPE_MISSING  \n",
              "0                         NaN         0.372591                        0  \n",
              "1                         1.0         0.501366                        1  \n",
              "2                         NaN         0.569503                        0  \n",
              "3                         0.0         0.436379                        1  \n",
              "4                         4.0         0.404630                        0  \n",
              "\n",
              "[5 rows x 53 columns]"
            ],
            "text/html": [
              "\n",
              "  <div id=\"df-2bc9f476-ba90-4bac-97f6-7ed814dcc25c\" class=\"colab-df-container\">\n",
              "    <div>\n",
              "<style scoped>\n",
              "    .dataframe tbody tr th:only-of-type {\n",
              "        vertical-align: middle;\n",
              "    }\n",
              "\n",
              "    .dataframe tbody tr th {\n",
              "        vertical-align: top;\n",
              "    }\n",
              "\n",
              "    .dataframe thead th {\n",
              "        text-align: right;\n",
              "    }\n",
              "</style>\n",
              "<table border=\"1\" class=\"dataframe\">\n",
              "  <thead>\n",
              "    <tr style=\"text-align: right;\">\n",
              "      <th></th>\n",
              "      <th>SK_ID_CURR</th>\n",
              "      <th>TARGET</th>\n",
              "      <th>NAME_CONTRACT_TYPE</th>\n",
              "      <th>CODE_GENDER</th>\n",
              "      <th>FLAG_OWN_CAR</th>\n",
              "      <th>FLAG_OWN_REALTY</th>\n",
              "      <th>CNT_CHILDREN</th>\n",
              "      <th>AMT_INCOME_TOTAL</th>\n",
              "      <th>AMT_CREDIT</th>\n",
              "      <th>AMT_ANNUITY</th>\n",
              "      <th>...</th>\n",
              "      <th>DEF_30_CNT_SOCIAL_CIRCLE</th>\n",
              "      <th>OBS_60_CNT_SOCIAL_CIRCLE</th>\n",
              "      <th>DEF_60_CNT_SOCIAL_CIRCLE</th>\n",
              "      <th>DAYS_LAST_PHONE_CHANGE</th>\n",
              "      <th>AMT_REQ_CREDIT_BUREAU_HOUR</th>\n",
              "      <th>AMT_REQ_CREDIT_BUREAU_MON</th>\n",
              "      <th>AMT_REQ_CREDIT_BUREAU_QRT</th>\n",
              "      <th>AMT_REQ_CREDIT_BUREAU_YEAR</th>\n",
              "      <th>EXT_SOURCE_MEAN</th>\n",
              "      <th>OCCUPATION_TYPE_MISSING</th>\n",
              "    </tr>\n",
              "  </thead>\n",
              "  <tbody>\n",
              "    <tr>\n",
              "      <th>0</th>\n",
              "      <td>0</td>\n",
              "      <td>0</td>\n",
              "      <td>0</td>\n",
              "      <td>F</td>\n",
              "      <td>N</td>\n",
              "      <td>N</td>\n",
              "      <td>0</td>\n",
              "      <td>112500.0</td>\n",
              "      <td>755190.0</td>\n",
              "      <td>36328.5</td>\n",
              "      <td>...</td>\n",
              "      <td>0.0</td>\n",
              "      <td>0.0</td>\n",
              "      <td>0.0</td>\n",
              "      <td>-292.0</td>\n",
              "      <td>NaN</td>\n",
              "      <td>NaN</td>\n",
              "      <td>NaN</td>\n",
              "      <td>NaN</td>\n",
              "      <td>0.372591</td>\n",
              "      <td>0</td>\n",
              "    </tr>\n",
              "    <tr>\n",
              "      <th>1</th>\n",
              "      <td>1</td>\n",
              "      <td>0</td>\n",
              "      <td>0</td>\n",
              "      <td>F</td>\n",
              "      <td>N</td>\n",
              "      <td>Y</td>\n",
              "      <td>0</td>\n",
              "      <td>225000.0</td>\n",
              "      <td>585000.0</td>\n",
              "      <td>16893.0</td>\n",
              "      <td>...</td>\n",
              "      <td>0.0</td>\n",
              "      <td>0.0</td>\n",
              "      <td>0.0</td>\n",
              "      <td>-617.0</td>\n",
              "      <td>0.0</td>\n",
              "      <td>0.0</td>\n",
              "      <td>0.0</td>\n",
              "      <td>1.0</td>\n",
              "      <td>0.501366</td>\n",
              "      <td>1</td>\n",
              "    </tr>\n",
              "    <tr>\n",
              "      <th>2</th>\n",
              "      <td>2</td>\n",
              "      <td>0</td>\n",
              "      <td>0</td>\n",
              "      <td>F</td>\n",
              "      <td>N</td>\n",
              "      <td>Y</td>\n",
              "      <td>0</td>\n",
              "      <td>54000.0</td>\n",
              "      <td>334152.0</td>\n",
              "      <td>18256.5</td>\n",
              "      <td>...</td>\n",
              "      <td>0.0</td>\n",
              "      <td>4.0</td>\n",
              "      <td>0.0</td>\n",
              "      <td>-542.0</td>\n",
              "      <td>NaN</td>\n",
              "      <td>NaN</td>\n",
              "      <td>NaN</td>\n",
              "      <td>NaN</td>\n",
              "      <td>0.569503</td>\n",
              "      <td>0</td>\n",
              "    </tr>\n",
              "    <tr>\n",
              "      <th>3</th>\n",
              "      <td>3</td>\n",
              "      <td>0</td>\n",
              "      <td>0</td>\n",
              "      <td>F</td>\n",
              "      <td>N</td>\n",
              "      <td>Y</td>\n",
              "      <td>0</td>\n",
              "      <td>67500.0</td>\n",
              "      <td>152820.0</td>\n",
              "      <td>8901.0</td>\n",
              "      <td>...</td>\n",
              "      <td>0.0</td>\n",
              "      <td>0.0</td>\n",
              "      <td>0.0</td>\n",
              "      <td>0.0</td>\n",
              "      <td>0.0</td>\n",
              "      <td>0.0</td>\n",
              "      <td>0.0</td>\n",
              "      <td>0.0</td>\n",
              "      <td>0.436379</td>\n",
              "      <td>1</td>\n",
              "    </tr>\n",
              "    <tr>\n",
              "      <th>4</th>\n",
              "      <td>4</td>\n",
              "      <td>1</td>\n",
              "      <td>0</td>\n",
              "      <td>M</td>\n",
              "      <td>N</td>\n",
              "      <td>N</td>\n",
              "      <td>0</td>\n",
              "      <td>157500.0</td>\n",
              "      <td>271066.5</td>\n",
              "      <td>21546.0</td>\n",
              "      <td>...</td>\n",
              "      <td>0.0</td>\n",
              "      <td>0.0</td>\n",
              "      <td>0.0</td>\n",
              "      <td>-1243.0</td>\n",
              "      <td>0.0</td>\n",
              "      <td>0.0</td>\n",
              "      <td>0.0</td>\n",
              "      <td>4.0</td>\n",
              "      <td>0.404630</td>\n",
              "      <td>0</td>\n",
              "    </tr>\n",
              "  </tbody>\n",
              "</table>\n",
              "<p>5 rows × 53 columns</p>\n",
              "</div>\n",
              "    <div class=\"colab-df-buttons\">\n",
              "\n",
              "  <div class=\"colab-df-container\">\n",
              "    <button class=\"colab-df-convert\" onclick=\"convertToInteractive('df-2bc9f476-ba90-4bac-97f6-7ed814dcc25c')\"\n",
              "            title=\"Convert this dataframe to an interactive table.\"\n",
              "            style=\"display:none;\">\n",
              "\n",
              "  <svg xmlns=\"http://www.w3.org/2000/svg\" height=\"24px\" viewBox=\"0 -960 960 960\">\n",
              "    <path d=\"M120-120v-720h720v720H120Zm60-500h600v-160H180v160Zm220 220h160v-160H400v160Zm0 220h160v-160H400v160ZM180-400h160v-160H180v160Zm440 0h160v-160H620v160ZM180-180h160v-160H180v160Zm440 0h160v-160H620v160Z\"/>\n",
              "  </svg>\n",
              "    </button>\n",
              "\n",
              "  <style>\n",
              "    .colab-df-container {\n",
              "      display:flex;\n",
              "      gap: 12px;\n",
              "    }\n",
              "\n",
              "    .colab-df-convert {\n",
              "      background-color: #E8F0FE;\n",
              "      border: none;\n",
              "      border-radius: 50%;\n",
              "      cursor: pointer;\n",
              "      display: none;\n",
              "      fill: #1967D2;\n",
              "      height: 32px;\n",
              "      padding: 0 0 0 0;\n",
              "      width: 32px;\n",
              "    }\n",
              "\n",
              "    .colab-df-convert:hover {\n",
              "      background-color: #E2EBFA;\n",
              "      box-shadow: 0px 1px 2px rgba(60, 64, 67, 0.3), 0px 1px 3px 1px rgba(60, 64, 67, 0.15);\n",
              "      fill: #174EA6;\n",
              "    }\n",
              "\n",
              "    .colab-df-buttons div {\n",
              "      margin-bottom: 4px;\n",
              "    }\n",
              "\n",
              "    [theme=dark] .colab-df-convert {\n",
              "      background-color: #3B4455;\n",
              "      fill: #D2E3FC;\n",
              "    }\n",
              "\n",
              "    [theme=dark] .colab-df-convert:hover {\n",
              "      background-color: #434B5C;\n",
              "      box-shadow: 0px 1px 3px 1px rgba(0, 0, 0, 0.15);\n",
              "      filter: drop-shadow(0px 1px 2px rgba(0, 0, 0, 0.3));\n",
              "      fill: #FFFFFF;\n",
              "    }\n",
              "  </style>\n",
              "\n",
              "    <script>\n",
              "      const buttonEl =\n",
              "        document.querySelector('#df-2bc9f476-ba90-4bac-97f6-7ed814dcc25c button.colab-df-convert');\n",
              "      buttonEl.style.display =\n",
              "        google.colab.kernel.accessAllowed ? 'block' : 'none';\n",
              "\n",
              "      async function convertToInteractive(key) {\n",
              "        const element = document.querySelector('#df-2bc9f476-ba90-4bac-97f6-7ed814dcc25c');\n",
              "        const dataTable =\n",
              "          await google.colab.kernel.invokeFunction('convertToInteractive',\n",
              "                                                    [key], {});\n",
              "        if (!dataTable) return;\n",
              "\n",
              "        const docLinkHtml = 'Like what you see? Visit the ' +\n",
              "          '<a target=\"_blank\" href=https://colab.research.google.com/notebooks/data_table.ipynb>data table notebook</a>'\n",
              "          + ' to learn more about interactive tables.';\n",
              "        element.innerHTML = '';\n",
              "        dataTable['output_type'] = 'display_data';\n",
              "        await google.colab.output.renderOutput(dataTable, element);\n",
              "        const docLink = document.createElement('div');\n",
              "        docLink.innerHTML = docLinkHtml;\n",
              "        element.appendChild(docLink);\n",
              "      }\n",
              "    </script>\n",
              "  </div>\n",
              "\n",
              "\n",
              "<div id=\"df-c407c97a-0e7b-452c-9b88-c9c14c41be0b\">\n",
              "  <button class=\"colab-df-quickchart\" onclick=\"quickchart('df-c407c97a-0e7b-452c-9b88-c9c14c41be0b')\"\n",
              "            title=\"Suggest charts\"\n",
              "            style=\"display:none;\">\n",
              "\n",
              "<svg xmlns=\"http://www.w3.org/2000/svg\" height=\"24px\"viewBox=\"0 0 24 24\"\n",
              "     width=\"24px\">\n",
              "    <g>\n",
              "        <path d=\"M19 3H5c-1.1 0-2 .9-2 2v14c0 1.1.9 2 2 2h14c1.1 0 2-.9 2-2V5c0-1.1-.9-2-2-2zM9 17H7v-7h2v7zm4 0h-2V7h2v10zm4 0h-2v-4h2v4z\"/>\n",
              "    </g>\n",
              "</svg>\n",
              "  </button>\n",
              "\n",
              "<style>\n",
              "  .colab-df-quickchart {\n",
              "      --bg-color: #E8F0FE;\n",
              "      --fill-color: #1967D2;\n",
              "      --hover-bg-color: #E2EBFA;\n",
              "      --hover-fill-color: #174EA6;\n",
              "      --disabled-fill-color: #AAA;\n",
              "      --disabled-bg-color: #DDD;\n",
              "  }\n",
              "\n",
              "  [theme=dark] .colab-df-quickchart {\n",
              "      --bg-color: #3B4455;\n",
              "      --fill-color: #D2E3FC;\n",
              "      --hover-bg-color: #434B5C;\n",
              "      --hover-fill-color: #FFFFFF;\n",
              "      --disabled-bg-color: #3B4455;\n",
              "      --disabled-fill-color: #666;\n",
              "  }\n",
              "\n",
              "  .colab-df-quickchart {\n",
              "    background-color: var(--bg-color);\n",
              "    border: none;\n",
              "    border-radius: 50%;\n",
              "    cursor: pointer;\n",
              "    display: none;\n",
              "    fill: var(--fill-color);\n",
              "    height: 32px;\n",
              "    padding: 0;\n",
              "    width: 32px;\n",
              "  }\n",
              "\n",
              "  .colab-df-quickchart:hover {\n",
              "    background-color: var(--hover-bg-color);\n",
              "    box-shadow: 0 1px 2px rgba(60, 64, 67, 0.3), 0 1px 3px 1px rgba(60, 64, 67, 0.15);\n",
              "    fill: var(--button-hover-fill-color);\n",
              "  }\n",
              "\n",
              "  .colab-df-quickchart-complete:disabled,\n",
              "  .colab-df-quickchart-complete:disabled:hover {\n",
              "    background-color: var(--disabled-bg-color);\n",
              "    fill: var(--disabled-fill-color);\n",
              "    box-shadow: none;\n",
              "  }\n",
              "\n",
              "  .colab-df-spinner {\n",
              "    border: 2px solid var(--fill-color);\n",
              "    border-color: transparent;\n",
              "    border-bottom-color: var(--fill-color);\n",
              "    animation:\n",
              "      spin 1s steps(1) infinite;\n",
              "  }\n",
              "\n",
              "  @keyframes spin {\n",
              "    0% {\n",
              "      border-color: transparent;\n",
              "      border-bottom-color: var(--fill-color);\n",
              "      border-left-color: var(--fill-color);\n",
              "    }\n",
              "    20% {\n",
              "      border-color: transparent;\n",
              "      border-left-color: var(--fill-color);\n",
              "      border-top-color: var(--fill-color);\n",
              "    }\n",
              "    30% {\n",
              "      border-color: transparent;\n",
              "      border-left-color: var(--fill-color);\n",
              "      border-top-color: var(--fill-color);\n",
              "      border-right-color: var(--fill-color);\n",
              "    }\n",
              "    40% {\n",
              "      border-color: transparent;\n",
              "      border-right-color: var(--fill-color);\n",
              "      border-top-color: var(--fill-color);\n",
              "    }\n",
              "    60% {\n",
              "      border-color: transparent;\n",
              "      border-right-color: var(--fill-color);\n",
              "    }\n",
              "    80% {\n",
              "      border-color: transparent;\n",
              "      border-right-color: var(--fill-color);\n",
              "      border-bottom-color: var(--fill-color);\n",
              "    }\n",
              "    90% {\n",
              "      border-color: transparent;\n",
              "      border-bottom-color: var(--fill-color);\n",
              "    }\n",
              "  }\n",
              "</style>\n",
              "\n",
              "  <script>\n",
              "    async function quickchart(key) {\n",
              "      const quickchartButtonEl =\n",
              "        document.querySelector('#' + key + ' button');\n",
              "      quickchartButtonEl.disabled = true;  // To prevent multiple clicks.\n",
              "      quickchartButtonEl.classList.add('colab-df-spinner');\n",
              "      try {\n",
              "        const charts = await google.colab.kernel.invokeFunction(\n",
              "            'suggestCharts', [key], {});\n",
              "      } catch (error) {\n",
              "        console.error('Error during call to suggestCharts:', error);\n",
              "      }\n",
              "      quickchartButtonEl.classList.remove('colab-df-spinner');\n",
              "      quickchartButtonEl.classList.add('colab-df-quickchart-complete');\n",
              "    }\n",
              "    (() => {\n",
              "      let quickchartButtonEl =\n",
              "        document.querySelector('#df-c407c97a-0e7b-452c-9b88-c9c14c41be0b button');\n",
              "      quickchartButtonEl.style.display =\n",
              "        google.colab.kernel.accessAllowed ? 'block' : 'none';\n",
              "    })();\n",
              "  </script>\n",
              "</div>\n",
              "\n",
              "    </div>\n",
              "  </div>\n"
            ],
            "application/vnd.google.colaboratory.intrinsic+json": {
              "type": "dataframe",
              "variable_name": "train"
            }
          },
          "metadata": {},
          "execution_count": 26
        }
      ]
    },
    {
      "cell_type": "markdown",
      "source": [
        "###ORGANIZATION_TYPEの前処理"
      ],
      "metadata": {
        "id": "wKTzC8039xwE"
      }
    },
    {
      "cell_type": "code",
      "source": [
        "# ORGANIZATION_TYPEの分布\n",
        "plt.figure(figsize=(30, 10))\n",
        "sns.countplot(data=train, x=\"ORGANIZATION_TYPE\")\n",
        "plt.tick_params(axis=\"x\", rotation=90)\n",
        "plt.show()"
      ],
      "metadata": {
        "colab": {
          "base_uri": "https://localhost:8080/",
          "height": 379
        },
        "id": "RALp24BP-Ve3",
        "outputId": "ccd4cb22-f359-4e88-83c1-a50070f222dc"
      },
      "execution_count": null,
      "outputs": [
        {
          "output_type": "display_data",
          "data": {
            "text/plain": [
              "<Figure size 3000x1000 with 1 Axes>"
            ],
            "image/png": "[encoded data removed]"
          },
          "metadata": {}
        }
      ]
    },
    {
      "cell_type": "markdown",
      "source": [
        "ORGANIZATION_TYPEを数値型に変換します。今回は、変数のデータ数で数値化します。例えば、「Police」のデータ数が1279、「Bank」のデータ数が1385である場合には、「Police」を1279に、「Bank」を1385に変換します。このようにデータ数に置き換える手法をCount Encodingと呼びます。"
      ],
      "metadata": {
        "id": "ScTEhhb8-FQu"
      }
    },
    {
      "cell_type": "code",
      "source": [
        "# ORGANIZATION_TYPEの数値化（Count Encoding）\n",
        "organization_ce = train[\"ORGANIZATION_TYPE\"].value_counts()\n",
        "train[\"ORGANIZATION_TYPE\"] = train[\"ORGANIZATION_TYPE\"].map(organization_ce)\n",
        "test[\"ORGANIZATION_TYPE\"] = test[\"ORGANIZATION_TYPE\"].map(organization_ce)\n",
        "\n",
        "train.head(5)"
      ],
      "metadata": {
        "colab": {
          "base_uri": "https://localhost:8080/",
          "height": 256
        },
        "id": "7p6iGHOJ9iXc",
        "outputId": "29716092-489f-42af-aa44-cc77f35fa24f"
      },
      "execution_count": null,
      "outputs": [
        {
          "output_type": "execute_result",
          "data": {
            "text/plain": [
              "   SK_ID_CURR  TARGET  NAME_CONTRACT_TYPE CODE_GENDER FLAG_OWN_CAR  \\\n",
              "0           0       0                   0           F            N   \n",
              "1           1       0                   0           F            N   \n",
              "2           2       0                   0           F            N   \n",
              "3           3       0                   0           F            N   \n",
              "4           4       1                   0           M            N   \n",
              "\n",
              "  FLAG_OWN_REALTY  CNT_CHILDREN  AMT_INCOME_TOTAL  AMT_CREDIT  AMT_ANNUITY  \\\n",
              "0               N             0          112500.0    755190.0      36328.5   \n",
              "1               Y             0          225000.0    585000.0      16893.0   \n",
              "2               Y             0           54000.0    334152.0      18256.5   \n",
              "3               Y             0           67500.0    152820.0       8901.0   \n",
              "4               N             0          157500.0    271066.5      21546.0   \n",
              "\n",
              "   ...  DEF_30_CNT_SOCIAL_CIRCLE OBS_60_CNT_SOCIAL_CIRCLE  \\\n",
              "0  ...                       0.0                      0.0   \n",
              "1  ...                       0.0                      0.0   \n",
              "2  ...                       0.0                      4.0   \n",
              "3  ...                       0.0                      0.0   \n",
              "4  ...                       0.0                      0.0   \n",
              "\n",
              "  DEF_60_CNT_SOCIAL_CIRCLE DAYS_LAST_PHONE_CHANGE AMT_REQ_CREDIT_BUREAU_HOUR  \\\n",
              "0                      0.0                 -292.0                        NaN   \n",
              "1                      0.0                 -617.0                        0.0   \n",
              "2                      0.0                 -542.0                        NaN   \n",
              "3                      0.0                    0.0                        0.0   \n",
              "4                      0.0                -1243.0                        0.0   \n",
              "\n",
              "  AMT_REQ_CREDIT_BUREAU_MON  AMT_REQ_CREDIT_BUREAU_QRT  \\\n",
              "0                       NaN                        NaN   \n",
              "1                       0.0                        0.0   \n",
              "2                       NaN                        NaN   \n",
              "3                       0.0                        0.0   \n",
              "4                       0.0                        0.0   \n",
              "\n",
              "   AMT_REQ_CREDIT_BUREAU_YEAR  EXT_SOURCE_MEAN  OCCUPATION_TYPE_MISSING  \n",
              "0                         NaN         0.372591                        0  \n",
              "1                         1.0         0.501366                        1  \n",
              "2                         NaN         0.569503                        0  \n",
              "3                         0.0         0.436379                        1  \n",
              "4                         4.0         0.404630                        0  \n",
              "\n",
              "[5 rows x 53 columns]"
            ],
            "text/html": [
              "\n",
              "  <div id=\"df-7a4b3d05-be98-46bc-8a48-e9fb191bdafc\" class=\"colab-df-container\">\n",
              "    <div>\n",
              "<style scoped>\n",
              "    .dataframe tbody tr th:only-of-type {\n",
              "        vertical-align: middle;\n",
              "    }\n",
              "\n",
              "    .dataframe tbody tr th {\n",
              "        vertical-align: top;\n",
              "    }\n",
              "\n",
              "    .dataframe thead th {\n",
              "        text-align: right;\n",
              "    }\n",
              "</style>\n",
              "<table border=\"1\" class=\"dataframe\">\n",
              "  <thead>\n",
              "    <tr style=\"text-align: right;\">\n",
              "      <th></th>\n",
              "      <th>SK_ID_CURR</th>\n",
              "      <th>TARGET</th>\n",
              "      <th>NAME_CONTRACT_TYPE</th>\n",
              "      <th>CODE_GENDER</th>\n",
              "      <th>FLAG_OWN_CAR</th>\n",
              "      <th>FLAG_OWN_REALTY</th>\n",
              "      <th>CNT_CHILDREN</th>\n",
              "      <th>AMT_INCOME_TOTAL</th>\n",
              "      <th>AMT_CREDIT</th>\n",
              "      <th>AMT_ANNUITY</th>\n",
              "      <th>...</th>\n",
              "      <th>DEF_30_CNT_SOCIAL_CIRCLE</th>\n",
              "      <th>OBS_60_CNT_SOCIAL_CIRCLE</th>\n",
              "      <th>DEF_60_CNT_SOCIAL_CIRCLE</th>\n",
              "      <th>DAYS_LAST_PHONE_CHANGE</th>\n",
              "      <th>AMT_REQ_CREDIT_BUREAU_HOUR</th>\n",
              "      <th>AMT_REQ_CREDIT_BUREAU_MON</th>\n",
              "      <th>AMT_REQ_CREDIT_BUREAU_QRT</th>\n",
              "      <th>AMT_REQ_CREDIT_BUREAU_YEAR</th>\n",
              "      <th>EXT_SOURCE_MEAN</th>\n",
              "      <th>OCCUPATION_TYPE_MISSING</th>\n",
              "    </tr>\n",
              "  </thead>\n",
              "  <tbody>\n",
              "    <tr>\n",
              "      <th>0</th>\n",
              "      <td>0</td>\n",
              "      <td>0</td>\n",
              "      <td>0</td>\n",
              "      <td>F</td>\n",
              "      <td>N</td>\n",
              "      <td>N</td>\n",
              "      <td>0</td>\n",
              "      <td>112500.0</td>\n",
              "      <td>755190.0</td>\n",
              "      <td>36328.5</td>\n",
              "      <td>...</td>\n",
              "      <td>0.0</td>\n",
              "      <td>0.0</td>\n",
              "      <td>0.0</td>\n",
              "      <td>-292.0</td>\n",
              "      <td>NaN</td>\n",
              "      <td>NaN</td>\n",
              "      <td>NaN</td>\n",
              "      <td>NaN</td>\n",
              "      <td>0.372591</td>\n",
              "      <td>0</td>\n",
              "    </tr>\n",
              "    <tr>\n",
              "      <th>1</th>\n",
              "      <td>1</td>\n",
              "      <td>0</td>\n",
              "      <td>0</td>\n",
              "      <td>F</td>\n",
              "      <td>N</td>\n",
              "      <td>Y</td>\n",
              "      <td>0</td>\n",
              "      <td>225000.0</td>\n",
              "      <td>585000.0</td>\n",
              "      <td>16893.0</td>\n",
              "      <td>...</td>\n",
              "      <td>0.0</td>\n",
              "      <td>0.0</td>\n",
              "      <td>0.0</td>\n",
              "      <td>-617.0</td>\n",
              "      <td>0.0</td>\n",
              "      <td>0.0</td>\n",
              "      <td>0.0</td>\n",
              "      <td>1.0</td>\n",
              "      <td>0.501366</td>\n",
              "      <td>1</td>\n",
              "    </tr>\n",
              "    <tr>\n",
              "      <th>2</th>\n",
              "      <td>2</td>\n",
              "      <td>0</td>\n",
              "      <td>0</td>\n",
              "      <td>F</td>\n",
              "      <td>N</td>\n",
              "      <td>Y</td>\n",
              "      <td>0</td>\n",
              "      <td>54000.0</td>\n",
              "      <td>334152.0</td>\n",
              "      <td>18256.5</td>\n",
              "      <td>...</td>\n",
              "      <td>0.0</td>\n",
              "      <td>4.0</td>\n",
              "      <td>0.0</td>\n",
              "      <td>-542.0</td>\n",
              "      <td>NaN</td>\n",
              "      <td>NaN</td>\n",
              "      <td>NaN</td>\n",
              "      <td>NaN</td>\n",
              "      <td>0.569503</td>\n",
              "      <td>0</td>\n",
              "    </tr>\n",
              "    <tr>\n",
              "      <th>3</th>\n",
              "      <td>3</td>\n",
              "      <td>0</td>\n",
              "      <td>0</td>\n",
              "      <td>F</td>\n",
              "      <td>N</td>\n",
              "      <td>Y</td>\n",
              "      <td>0</td>\n",
              "      <td>67500.0</td>\n",
              "      <td>152820.0</td>\n",
              "      <td>8901.0</td>\n",
              "      <td>...</td>\n",
              "      <td>0.0</td>\n",
              "      <td>0.0</td>\n",
              "      <td>0.0</td>\n",
              "      <td>0.0</td>\n",
              "      <td>0.0</td>\n",
              "      <td>0.0</td>\n",
              "      <td>0.0</td>\n",
              "      <td>0.0</td>\n",
              "      <td>0.436379</td>\n",
              "      <td>1</td>\n",
              "    </tr>\n",
              "    <tr>\n",
              "      <th>4</th>\n",
              "      <td>4</td>\n",
              "      <td>1</td>\n",
              "      <td>0</td>\n",
              "      <td>M</td>\n",
              "      <td>N</td>\n",
              "      <td>N</td>\n",
              "      <td>0</td>\n",
              "      <td>157500.0</td>\n",
              "      <td>271066.5</td>\n",
              "      <td>21546.0</td>\n",
              "      <td>...</td>\n",
              "      <td>0.0</td>\n",
              "      <td>0.0</td>\n",
              "      <td>0.0</td>\n",
              "      <td>-1243.0</td>\n",
              "      <td>0.0</td>\n",
              "      <td>0.0</td>\n",
              "      <td>0.0</td>\n",
              "      <td>4.0</td>\n",
              "      <td>0.404630</td>\n",
              "      <td>0</td>\n",
              "    </tr>\n",
              "  </tbody>\n",
              "</table>\n",
              "<p>5 rows × 53 columns</p>\n",
              "</div>\n",
              "    <div class=\"colab-df-buttons\">\n",
              "\n",
              "  <div class=\"colab-df-container\">\n",
              "    <button class=\"colab-df-convert\" onclick=\"convertToInteractive('df-7a4b3d05-be98-46bc-8a48-e9fb191bdafc')\"\n",
              "            title=\"Convert this dataframe to an interactive table.\"\n",
              "            style=\"display:none;\">\n",
              "\n",
              "  <svg xmlns=\"http://www.w3.org/2000/svg\" height=\"24px\" viewBox=\"0 -960 960 960\">\n",
              "    <path d=\"M120-120v-720h720v720H120Zm60-500h600v-160H180v160Zm220 220h160v-160H400v160Zm0 220h160v-160H400v160ZM180-400h160v-160H180v160Zm440 0h160v-160H620v160ZM180-180h160v-160H180v160Zm440 0h160v-160H620v160Z\"/>\n",
              "  </svg>\n",
              "    </button>\n",
              "\n",
              "  <style>\n",
              "    .colab-df-container {\n",
              "      display:flex;\n",
              "      gap: 12px;\n",
              "    }\n",
              "\n",
              "    .colab-df-convert {\n",
              "      background-color: #E8F0FE;\n",
              "      border: none;\n",
              "      border-radius: 50%;\n",
              "      cursor: pointer;\n",
              "      display: none;\n",
              "      fill: #1967D2;\n",
              "      height: 32px;\n",
              "      padding: 0 0 0 0;\n",
              "      width: 32px;\n",
              "    }\n",
              "\n",
              "    .colab-df-convert:hover {\n",
              "      background-color: #E2EBFA;\n",
              "      box-shadow: 0px 1px 2px rgba(60, 64, 67, 0.3), 0px 1px 3px 1px rgba(60, 64, 67, 0.15);\n",
              "      fill: #174EA6;\n",
              "    }\n",
              "\n",
              "    .colab-df-buttons div {\n",
              "      margin-bottom: 4px;\n",
              "    }\n",
              "\n",
              "    [theme=dark] .colab-df-convert {\n",
              "      background-color: #3B4455;\n",
              "      fill: #D2E3FC;\n",
              "    }\n",
              "\n",
              "    [theme=dark] .colab-df-convert:hover {\n",
              "      background-color: #434B5C;\n",
              "      box-shadow: 0px 1px 3px 1px rgba(0, 0, 0, 0.15);\n",
              "      filter: drop-shadow(0px 1px 2px rgba(0, 0, 0, 0.3));\n",
              "      fill: #FFFFFF;\n",
              "    }\n",
              "  </style>\n",
              "\n",
              "    <script>\n",
              "      const buttonEl =\n",
              "        document.querySelector('#df-7a4b3d05-be98-46bc-8a48-e9fb191bdafc button.colab-df-convert');\n",
              "      buttonEl.style.display =\n",
              "        google.colab.kernel.accessAllowed ? 'block' : 'none';\n",
              "\n",
              "      async function convertToInteractive(key) {\n",
              "        const element = document.querySelector('#df-7a4b3d05-be98-46bc-8a48-e9fb191bdafc');\n",
              "        const dataTable =\n",
              "          await google.colab.kernel.invokeFunction('convertToInteractive',\n",
              "                                                    [key], {});\n",
              "        if (!dataTable) return;\n",
              "\n",
              "        const docLinkHtml = 'Like what you see? Visit the ' +\n",
              "          '<a target=\"_blank\" href=https://colab.research.google.com/notebooks/data_table.ipynb>data table notebook</a>'\n",
              "          + ' to learn more about interactive tables.';\n",
              "        element.innerHTML = '';\n",
              "        dataTable['output_type'] = 'display_data';\n",
              "        await google.colab.output.renderOutput(dataTable, element);\n",
              "        const docLink = document.createElement('div');\n",
              "        docLink.innerHTML = docLinkHtml;\n",
              "        element.appendChild(docLink);\n",
              "      }\n",
              "    </script>\n",
              "  </div>\n",
              "\n",
              "\n",
              "<div id=\"df-63276d17-2d71-40b4-9632-5901e28cc94c\">\n",
              "  <button class=\"colab-df-quickchart\" onclick=\"quickchart('df-63276d17-2d71-40b4-9632-5901e28cc94c')\"\n",
              "            title=\"Suggest charts\"\n",
              "            style=\"display:none;\">\n",
              "\n",
              "<svg xmlns=\"http://www.w3.org/2000/svg\" height=\"24px\"viewBox=\"0 0 24 24\"\n",
              "     width=\"24px\">\n",
              "    <g>\n",
              "        <path d=\"M19 3H5c-1.1 0-2 .9-2 2v14c0 1.1.9 2 2 2h14c1.1 0 2-.9 2-2V5c0-1.1-.9-2-2-2zM9 17H7v-7h2v7zm4 0h-2V7h2v10zm4 0h-2v-4h2v4z\"/>\n",
              "    </g>\n",
              "</svg>\n",
              "  </button>\n",
              "\n",
              "<style>\n",
              "  .colab-df-quickchart {\n",
              "      --bg-color: #E8F0FE;\n",
              "      --fill-color: #1967D2;\n",
              "      --hover-bg-color: #E2EBFA;\n",
              "      --hover-fill-color: #174EA6;\n",
              "      --disabled-fill-color: #AAA;\n",
              "      --disabled-bg-color: #DDD;\n",
              "  }\n",
              "\n",
              "  [theme=dark] .colab-df-quickchart {\n",
              "      --bg-color: #3B4455;\n",
              "      --fill-color: #D2E3FC;\n",
              "      --hover-bg-color: #434B5C;\n",
              "      --hover-fill-color: #FFFFFF;\n",
              "      --disabled-bg-color: #3B4455;\n",
              "      --disabled-fill-color: #666;\n",
              "  }\n",
              "\n",
              "  .colab-df-quickchart {\n",
              "    background-color: var(--bg-color);\n",
              "    border: none;\n",
              "    border-radius: 50%;\n",
              "    cursor: pointer;\n",
              "    display: none;\n",
              "    fill: var(--fill-color);\n",
              "    height: 32px;\n",
              "    padding: 0;\n",
              "    width: 32px;\n",
              "  }\n",
              "\n",
              "  .colab-df-quickchart:hover {\n",
              "    background-color: var(--hover-bg-color);\n",
              "    box-shadow: 0 1px 2px rgba(60, 64, 67, 0.3), 0 1px 3px 1px rgba(60, 64, 67, 0.15);\n",
              "    fill: var(--button-hover-fill-color);\n",
              "  }\n",
              "\n",
              "  .colab-df-quickchart-complete:disabled,\n",
              "  .colab-df-quickchart-complete:disabled:hover {\n",
              "    background-color: var(--disabled-bg-color);\n",
              "    fill: var(--disabled-fill-color);\n",
              "    box-shadow: none;\n",
              "  }\n",
              "\n",
              "  .colab-df-spinner {\n",
              "    border: 2px solid var(--fill-color);\n",
              "    border-color: transparent;\n",
              "    border-bottom-color: var(--fill-color);\n",
              "    animation:\n",
              "      spin 1s steps(1) infinite;\n",
              "  }\n",
              "\n",
              "  @keyframes spin {\n",
              "    0% {\n",
              "      border-color: transparent;\n",
              "      border-bottom-color: var(--fill-color);\n",
              "      border-left-color: var(--fill-color);\n",
              "    }\n",
              "    20% {\n",
              "      border-color: transparent;\n",
              "      border-left-color: var(--fill-color);\n",
              "      border-top-color: var(--fill-color);\n",
              "    }\n",
              "    30% {\n",
              "      border-color: transparent;\n",
              "      border-left-color: var(--fill-color);\n",
              "      border-top-color: var(--fill-color);\n",
              "      border-right-color: var(--fill-color);\n",
              "    }\n",
              "    40% {\n",
              "      border-color: transparent;\n",
              "      border-right-color: var(--fill-color);\n",
              "      border-top-color: var(--fill-color);\n",
              "    }\n",
              "    60% {\n",
              "      border-color: transparent;\n",
              "      border-right-color: var(--fill-color);\n",
              "    }\n",
              "    80% {\n",
              "      border-color: transparent;\n",
              "      border-right-color: var(--fill-color);\n",
              "      border-bottom-color: var(--fill-color);\n",
              "    }\n",
              "    90% {\n",
              "      border-color: transparent;\n",
              "      border-bottom-color: var(--fill-color);\n",
              "    }\n",
              "  }\n",
              "</style>\n",
              "\n",
              "  <script>\n",
              "    async function quickchart(key) {\n",
              "      const quickchartButtonEl =\n",
              "        document.querySelector('#' + key + ' button');\n",
              "      quickchartButtonEl.disabled = true;  // To prevent multiple clicks.\n",
              "      quickchartButtonEl.classList.add('colab-df-spinner');\n",
              "      try {\n",
              "        const charts = await google.colab.kernel.invokeFunction(\n",
              "            'suggestCharts', [key], {});\n",
              "      } catch (error) {\n",
              "        console.error('Error during call to suggestCharts:', error);\n",
              "      }\n",
              "      quickchartButtonEl.classList.remove('colab-df-spinner');\n",
              "      quickchartButtonEl.classList.add('colab-df-quickchart-complete');\n",
              "    }\n",
              "    (() => {\n",
              "      let quickchartButtonEl =\n",
              "        document.querySelector('#df-63276d17-2d71-40b4-9632-5901e28cc94c button');\n",
              "      quickchartButtonEl.style.display =\n",
              "        google.colab.kernel.accessAllowed ? 'block' : 'none';\n",
              "    })();\n",
              "  </script>\n",
              "</div>\n",
              "\n",
              "    </div>\n",
              "  </div>\n"
            ],
            "application/vnd.google.colaboratory.intrinsic+json": {
              "type": "dataframe",
              "variable_name": "train"
            }
          },
          "metadata": {},
          "execution_count": 27
        }
      ]
    },
    {
      "cell_type": "markdown",
      "source": [
        "###CODE_GENDERの前処理"
      ],
      "metadata": {
        "id": "JfM8FKp6Oyhy"
      }
    },
    {
      "cell_type": "code",
      "source": [
        "train['CODE_GENDER'].isnull().sum()\n",
        "test['CODE_GENDER'].isnull().sum()"
      ],
      "metadata": {
        "colab": {
          "base_uri": "https://localhost:8080/"
        },
        "id": "xWmpvkCgTqPB",
        "outputId": "1b7e3295-f30f-44b9-fa91-ecc7152ae052"
      },
      "execution_count": 100,
      "outputs": [
        {
          "output_type": "execute_result",
          "data": {
            "text/plain": [
              "0"
            ]
          },
          "metadata": {},
          "execution_count": 100
        }
      ]
    },
    {
      "cell_type": "code",
      "source": [
        "# NAME_CONTRACT_TYPEの分布\n",
        "sns.countplot(data=train, x=\"CODE_GENDER\")\n",
        "plt.show()"
      ],
      "metadata": {
        "colab": {
          "base_uri": "https://localhost:8080/",
          "height": 449
        },
        "id": "9qT7y3iiO3TJ",
        "outputId": "553475a1-65bc-42d6-e935-b51f48899a2b"
      },
      "execution_count": null,
      "outputs": [
        {
          "output_type": "display_data",
          "data": {
            "text/plain": [
              "<Figure size 640x480 with 1 Axes>"
            ],
            "image/png": "[encoded data removed]"
          },
          "metadata": {}
        }
      ]
    },
    {
      "cell_type": "code",
      "source": [
        "train[\"CODE_GENDER\"].value_counts()\n"
      ],
      "metadata": {
        "colab": {
          "base_uri": "https://localhost:8080/",
          "height": 210
        },
        "id": "dpOz3al_PCQm",
        "outputId": "8fdfe4be-c165-4b84-c3ec-cb018083167f"
      },
      "execution_count": null,
      "outputs": [
        {
          "output_type": "execute_result",
          "data": {
            "text/plain": [
              "CODE_GENDER\n",
              "F      112549\n",
              "M       58649\n",
              "XNA         4\n",
              "Name: count, dtype: int64"
            ],
            "text/html": [
              "<div>\n",
              "<style scoped>\n",
              "    .dataframe tbody tr th:only-of-type {\n",
              "        vertical-align: middle;\n",
              "    }\n",
              "\n",
              "    .dataframe tbody tr th {\n",
              "        vertical-align: top;\n",
              "    }\n",
              "\n",
              "    .dataframe thead th {\n",
              "        text-align: right;\n",
              "    }\n",
              "</style>\n",
              "<table border=\"1\" class=\"dataframe\">\n",
              "  <thead>\n",
              "    <tr style=\"text-align: right;\">\n",
              "      <th></th>\n",
              "      <th>count</th>\n",
              "    </tr>\n",
              "    <tr>\n",
              "      <th>CODE_GENDER</th>\n",
              "      <th></th>\n",
              "    </tr>\n",
              "  </thead>\n",
              "  <tbody>\n",
              "    <tr>\n",
              "      <th>F</th>\n",
              "      <td>112549</td>\n",
              "    </tr>\n",
              "    <tr>\n",
              "      <th>M</th>\n",
              "      <td>58649</td>\n",
              "    </tr>\n",
              "    <tr>\n",
              "      <th>XNA</th>\n",
              "      <td>4</td>\n",
              "    </tr>\n",
              "  </tbody>\n",
              "</table>\n",
              "</div><br><label><b>dtype:</b> int64</label>"
            ]
          },
          "metadata": {},
          "execution_count": 67
        }
      ]
    },
    {
      "cell_type": "markdown",
      "source": [
        "最頻値のFに合わせる"
      ],
      "metadata": {
        "id": "u0y2c3gNQonU"
      }
    },
    {
      "cell_type": "code",
      "source": [
        "train[\"CODE_GENDER\"].replace({'F': 0, 'M': 1, 'XNA': 0}, inplace=True)\n",
        "test[\"CODE_GENDER\"].replace({'F': 0, 'M': 1, 'XNA': 0}, inplace=True)"
      ],
      "metadata": {
        "id": "TFN8_M-iQnOU"
      },
      "execution_count": null,
      "outputs": []
    },
    {
      "cell_type": "markdown",
      "source": [
        "###CNT_CHILDRENの前処理\n",
        "\n"
      ],
      "metadata": {
        "id": "pnLzA0-VTbVi"
      }
    },
    {
      "cell_type": "code",
      "source": [
        "train['CNT_CHILDREN'].isnull().sum()\n",
        "test['CNT_CHILDREN'].isnull().sum()"
      ],
      "metadata": {
        "colab": {
          "base_uri": "https://localhost:8080/"
        },
        "id": "-vQM-F0uXuxt",
        "outputId": "3079efa6-e9a5-4565-ecd3-c9f12c201769"
      },
      "execution_count": 101,
      "outputs": [
        {
          "output_type": "execute_result",
          "data": {
            "text/plain": [
              "0"
            ]
          },
          "metadata": {},
          "execution_count": 101
        }
      ]
    },
    {
      "cell_type": "code",
      "source": [
        "\n",
        "sns.countplot(data=train, x=\"CNT_CHILDREN\")\n",
        "plt.show()"
      ],
      "metadata": {
        "colab": {
          "base_uri": "https://localhost:8080/",
          "height": 449
        },
        "id": "sxPVDXTHTa1w",
        "outputId": "56749383-5f90-42c5-dee6-c81f637f4106"
      },
      "execution_count": 79,
      "outputs": [
        {
          "output_type": "display_data",
          "data": {
            "text/plain": [
              "<Figure size 640x480 with 1 Axes>"
            ],
            "image/png": "[encoded data removed]"
          },
          "metadata": {}
        }
      ]
    },
    {
      "cell_type": "markdown",
      "source": [
        "欠損値もなさそうだし、そのまま使うか"
      ],
      "metadata": {
        "id": "EKSk8baCX1_S"
      }
    },
    {
      "cell_type": "markdown",
      "source": [
        "###AMT_CREDITの前処理\n",
        "\n"
      ],
      "metadata": {
        "id": "v19umg2QgFQt"
      }
    },
    {
      "cell_type": "code",
      "source": [
        "print(train['AMT_CREDIT'].isnull().sum())\n",
        "print(test['AMT_CREDIT'].isnull().sum())"
      ],
      "metadata": {
        "colab": {
          "base_uri": "https://localhost:8080/"
        },
        "id": "1LGTiJSsf56z",
        "outputId": "713ab448-c044-42e7-e427-4010608d62f1"
      },
      "execution_count": 104,
      "outputs": [
        {
          "output_type": "stream",
          "name": "stdout",
          "text": [
            "0\n",
            "0\n"
          ]
        }
      ]
    },
    {
      "cell_type": "code",
      "source": [
        "sns.displot(data=train, x=\"AMT_CREDIT\")\n",
        "plt.show()"
      ],
      "metadata": {
        "colab": {
          "base_uri": "https://localhost:8080/",
          "height": 506
        },
        "id": "_-paNWmjgQ1B",
        "outputId": "2a1523eb-cbd9-4492-a209-1650f1423196"
      },
      "execution_count": 107,
      "outputs": [
        {
          "output_type": "display_data",
          "data": {
            "text/plain": [
              "<Figure size 500x500 with 1 Axes>"
            ],
            "image/png": "[encoded data removed]"
          },
          "metadata": {}
        }
      ]
    },
    {
      "cell_type": "code",
      "source": [
        "train[\"AMT_CREDIT_LOG\"] = np.log1p(train[\"AMT_CREDIT\"])\n",
        "test[\"AMT_CREDIT_LOG\"] = np.log1p(test[\"AMT_CREDIT\"])"
      ],
      "metadata": {
        "id": "7LSJrXojg4cC"
      },
      "execution_count": 109,
      "outputs": []
    },
    {
      "cell_type": "code",
      "source": [
        "sns.displot(data=train, x=\"AMT_CREDIT_LOG\")\n",
        "plt.show()"
      ],
      "metadata": {
        "colab": {
          "base_uri": "https://localhost:8080/",
          "height": 506
        },
        "id": "GseqUP6Lg-Hl",
        "outputId": "7b4c6de7-1604-4fea-f62e-b5b7040c6621"
      },
      "execution_count": 108,
      "outputs": [
        {
          "output_type": "display_data",
          "data": {
            "text/plain": [
              "<Figure size 500x500 with 1 Axes>"
            ],
            "image/png": "[encoded data removed]"
          },
          "metadata": {}
        }
      ]
    },
    {
      "cell_type": "markdown",
      "source": [
        "モデルでlogと比較してみたけど、どっちも同じ結果だった\n",
        "無難にlogを残しておくか"
      ],
      "metadata": {
        "id": "W9W11XWih5j2"
      }
    },
    {
      "cell_type": "markdown",
      "source": [
        "###AMT_ANNUITYの前処理"
      ],
      "metadata": {
        "id": "spC_FYK9ilQt"
      }
    },
    {
      "cell_type": "code",
      "source": [
        "print(train['AMT_ANNUITY'].isnull().sum())\n",
        "print(test['AMT_ANNUITY'].isnull().sum())"
      ],
      "metadata": {
        "colab": {
          "base_uri": "https://localhost:8080/"
        },
        "id": "fyhEVQFSirkr",
        "outputId": "edfaf016-beea-442c-8a4f-9861e8ee1bd1"
      },
      "execution_count": 130,
      "outputs": [
        {
          "output_type": "stream",
          "name": "stdout",
          "text": [
            "0\n",
            "0\n"
          ]
        }
      ]
    },
    {
      "cell_type": "code",
      "source": [
        "train['AMT_ANNUITY'].describe()"
      ],
      "metadata": {
        "colab": {
          "base_uri": "https://localhost:8080/",
          "height": 335
        },
        "id": "svWds7l0i1uu",
        "outputId": "7201f321-41d0-4602-a035-6ea7913b49c4"
      },
      "execution_count": 118,
      "outputs": [
        {
          "output_type": "execute_result",
          "data": {
            "text/plain": [
              "count    171196.000000\n",
              "mean      27127.500701\n",
              "std       14538.361801\n",
              "min        1980.000000\n",
              "25%       16546.500000\n",
              "50%       24916.500000\n",
              "75%       34600.500000\n",
              "max      258025.500000\n",
              "Name: AMT_ANNUITY, dtype: float64"
            ],
            "text/html": [
              "<div>\n",
              "<style scoped>\n",
              "    .dataframe tbody tr th:only-of-type {\n",
              "        vertical-align: middle;\n",
              "    }\n",
              "\n",
              "    .dataframe tbody tr th {\n",
              "        vertical-align: top;\n",
              "    }\n",
              "\n",
              "    .dataframe thead th {\n",
              "        text-align: right;\n",
              "    }\n",
              "</style>\n",
              "<table border=\"1\" class=\"dataframe\">\n",
              "  <thead>\n",
              "    <tr style=\"text-align: right;\">\n",
              "      <th></th>\n",
              "      <th>AMT_ANNUITY</th>\n",
              "    </tr>\n",
              "  </thead>\n",
              "  <tbody>\n",
              "    <tr>\n",
              "      <th>count</th>\n",
              "      <td>171196.000000</td>\n",
              "    </tr>\n",
              "    <tr>\n",
              "      <th>mean</th>\n",
              "      <td>27127.500701</td>\n",
              "    </tr>\n",
              "    <tr>\n",
              "      <th>std</th>\n",
              "      <td>14538.361801</td>\n",
              "    </tr>\n",
              "    <tr>\n",
              "      <th>min</th>\n",
              "      <td>1980.000000</td>\n",
              "    </tr>\n",
              "    <tr>\n",
              "      <th>25%</th>\n",
              "      <td>16546.500000</td>\n",
              "    </tr>\n",
              "    <tr>\n",
              "      <th>50%</th>\n",
              "      <td>24916.500000</td>\n",
              "    </tr>\n",
              "    <tr>\n",
              "      <th>75%</th>\n",
              "      <td>34600.500000</td>\n",
              "    </tr>\n",
              "    <tr>\n",
              "      <th>max</th>\n",
              "      <td>258025.500000</td>\n",
              "    </tr>\n",
              "  </tbody>\n",
              "</table>\n",
              "</div><br><label><b>dtype:</b> float64</label>"
            ]
          },
          "metadata": {},
          "execution_count": 118
        }
      ]
    },
    {
      "cell_type": "code",
      "source": [
        "#最頻値でカバー\n",
        "median_val = train['AMT_ANNUITY'].median()\n",
        "train['AMT_ANNUITY'].fillna(median_val, inplace=True)\n",
        "test['AMT_ANNUITY'].fillna(median_val, inplace=True)\n"
      ],
      "metadata": {
        "id": "mPO_qra5jnv6"
      },
      "execution_count": 133,
      "outputs": []
    },
    {
      "cell_type": "code",
      "source": [
        "sns.displot(data=train, x=\"AMT_ANNUITY\")\n",
        "plt.show()"
      ],
      "metadata": {
        "colab": {
          "base_uri": "https://localhost:8080/",
          "height": 506
        },
        "id": "nOC6DOyGiyLJ",
        "outputId": "ae339c8d-dc05-4476-87f2-1a5357ebc06f"
      },
      "execution_count": 115,
      "outputs": [
        {
          "output_type": "display_data",
          "data": {
            "text/plain": [
              "<Figure size 500x500 with 1 Axes>"
            ],
            "image/png": "[encoded data removed]"
          },
          "metadata": {}
        }
      ]
    },
    {
      "cell_type": "code",
      "source": [
        "\n",
        "train[\"AMT_ANNUITY_LOG\"] = np.log1p(train[\"AMT_ANNUITY\"])\n",
        "test[\"AMT_ANNUITY_LOG\"] = np.log1p(test[\"AMT_ANNUITY\"])"
      ],
      "metadata": {
        "id": "BYOBERwFjLI-"
      },
      "execution_count": 134,
      "outputs": []
    },
    {
      "cell_type": "code",
      "source": [
        "sns.displot(data=train, x=\"AMT_ANNUITY_LOG\")\n",
        "plt.show()"
      ],
      "metadata": {
        "colab": {
          "base_uri": "https://localhost:8080/",
          "height": 507
        },
        "id": "VJUNr_38iv9d",
        "outputId": "4c5cc44e-dd80-4c4b-e665-f3c671654f87"
      },
      "execution_count": 120,
      "outputs": [
        {
          "output_type": "display_data",
          "data": {
            "text/plain": [
              "<Figure size 500x500 with 1 Axes>"
            ],
            "image/png": "[encoded data removed]"
          },
          "metadata": {}
        }
      ]
    },
    {
      "cell_type": "code",
      "source": [],
      "metadata": {
        "colab": {
          "base_uri": "https://localhost:8080/",
          "height": 335
        },
        "id": "oUKAFb55jasg",
        "outputId": "7bac28b8-c316-4145-f2b5-670eb5556801"
      },
      "execution_count": 121,
      "outputs": [
        {
          "output_type": "execute_result",
          "data": {
            "text/plain": [
              "count    171196.000000\n",
              "mean         10.068188\n",
              "std           0.546095\n",
              "min           7.591357\n",
              "25%           9.713990\n",
              "50%          10.123326\n",
              "75%          10.451652\n",
              "max          12.460818\n",
              "Name: AMT_ANNUITY_LOG, dtype: float64"
            ],
            "text/html": [
              "<div>\n",
              "<style scoped>\n",
              "    .dataframe tbody tr th:only-of-type {\n",
              "        vertical-align: middle;\n",
              "    }\n",
              "\n",
              "    .dataframe tbody tr th {\n",
              "        vertical-align: top;\n",
              "    }\n",
              "\n",
              "    .dataframe thead th {\n",
              "        text-align: right;\n",
              "    }\n",
              "</style>\n",
              "<table border=\"1\" class=\"dataframe\">\n",
              "  <thead>\n",
              "    <tr style=\"text-align: right;\">\n",
              "      <th></th>\n",
              "      <th>AMT_ANNUITY_LOG</th>\n",
              "    </tr>\n",
              "  </thead>\n",
              "  <tbody>\n",
              "    <tr>\n",
              "      <th>count</th>\n",
              "      <td>171196.000000</td>\n",
              "    </tr>\n",
              "    <tr>\n",
              "      <th>mean</th>\n",
              "      <td>10.068188</td>\n",
              "    </tr>\n",
              "    <tr>\n",
              "      <th>std</th>\n",
              "      <td>0.546095</td>\n",
              "    </tr>\n",
              "    <tr>\n",
              "      <th>min</th>\n",
              "      <td>7.591357</td>\n",
              "    </tr>\n",
              "    <tr>\n",
              "      <th>25%</th>\n",
              "      <td>9.713990</td>\n",
              "    </tr>\n",
              "    <tr>\n",
              "      <th>50%</th>\n",
              "      <td>10.123326</td>\n",
              "    </tr>\n",
              "    <tr>\n",
              "      <th>75%</th>\n",
              "      <td>10.451652</td>\n",
              "    </tr>\n",
              "    <tr>\n",
              "      <th>max</th>\n",
              "      <td>12.460818</td>\n",
              "    </tr>\n",
              "  </tbody>\n",
              "</table>\n",
              "</div><br><label><b>dtype:</b> float64</label>"
            ]
          },
          "metadata": {},
          "execution_count": 121
        }
      ]
    },
    {
      "cell_type": "markdown",
      "source": [
        "###NAME_INCOME_TYPEの前処理"
      ],
      "metadata": {
        "id": "S7GGKPVrl1le"
      }
    },
    {
      "cell_type": "code",
      "source": [
        "print(train['NAME_INCOME_TYPE'].isnull().sum())\n",
        "print(test['NAME_INCOME_TYPE'].isnull().sum())"
      ],
      "metadata": {
        "colab": {
          "base_uri": "https://localhost:8080/"
        },
        "id": "3LwSWq1Jl4Vb",
        "outputId": "c5cb5ae3-6b22-4f4e-8f26-019243617c91"
      },
      "execution_count": 137,
      "outputs": [
        {
          "output_type": "stream",
          "name": "stdout",
          "text": [
            "0\n",
            "0\n"
          ]
        }
      ]
    },
    {
      "cell_type": "code",
      "source": [
        "train['NAME_INCOME_TYPE'].value_counts()\n",
        "test['NAME_INCOME_TYPE'].value_counts()"
      ],
      "metadata": {
        "colab": {
          "base_uri": "https://localhost:8080/",
          "height": 366
        },
        "id": "0iPAyxEPmLSF",
        "outputId": "587d914e-3dd9-4131-fb8c-2754e220ca9b"
      },
      "execution_count": 140,
      "outputs": [
        {
          "output_type": "execute_result",
          "data": {
            "text/plain": [
              "NAME_INCOME_TYPE\n",
              "Working                 32460\n",
              "Commercial associate    14253\n",
              "Pensioner               10560\n",
              "State servant            4215\n",
              "Unemployed                  6\n",
              "Student                     4\n",
              "Maternity leave             1\n",
              "Businessman                 1\n",
              "Name: count, dtype: int64"
            ],
            "text/html": [
              "<div>\n",
              "<style scoped>\n",
              "    .dataframe tbody tr th:only-of-type {\n",
              "        vertical-align: middle;\n",
              "    }\n",
              "\n",
              "    .dataframe tbody tr th {\n",
              "        vertical-align: top;\n",
              "    }\n",
              "\n",
              "    .dataframe thead th {\n",
              "        text-align: right;\n",
              "    }\n",
              "</style>\n",
              "<table border=\"1\" class=\"dataframe\">\n",
              "  <thead>\n",
              "    <tr style=\"text-align: right;\">\n",
              "      <th></th>\n",
              "      <th>count</th>\n",
              "    </tr>\n",
              "    <tr>\n",
              "      <th>NAME_INCOME_TYPE</th>\n",
              "      <th></th>\n",
              "    </tr>\n",
              "  </thead>\n",
              "  <tbody>\n",
              "    <tr>\n",
              "      <th>Working</th>\n",
              "      <td>32460</td>\n",
              "    </tr>\n",
              "    <tr>\n",
              "      <th>Commercial associate</th>\n",
              "      <td>14253</td>\n",
              "    </tr>\n",
              "    <tr>\n",
              "      <th>Pensioner</th>\n",
              "      <td>10560</td>\n",
              "    </tr>\n",
              "    <tr>\n",
              "      <th>State servant</th>\n",
              "      <td>4215</td>\n",
              "    </tr>\n",
              "    <tr>\n",
              "      <th>Unemployed</th>\n",
              "      <td>6</td>\n",
              "    </tr>\n",
              "    <tr>\n",
              "      <th>Student</th>\n",
              "      <td>4</td>\n",
              "    </tr>\n",
              "    <tr>\n",
              "      <th>Maternity leave</th>\n",
              "      <td>1</td>\n",
              "    </tr>\n",
              "    <tr>\n",
              "      <th>Businessman</th>\n",
              "      <td>1</td>\n",
              "    </tr>\n",
              "  </tbody>\n",
              "</table>\n",
              "</div><br><label><b>dtype:</b> int64</label>"
            ]
          },
          "metadata": {},
          "execution_count": 140
        }
      ]
    },
    {
      "cell_type": "code",
      "source": [
        "test['NAME_INCOME_TYPE'].value_counts()"
      ],
      "metadata": {
        "colab": {
          "base_uri": "https://localhost:8080/",
          "height": 366
        },
        "id": "wS0JTzr5mTXx",
        "outputId": "6fbd60b7-e247-4049-e905-9ca4ffc377c5"
      },
      "execution_count": 141,
      "outputs": [
        {
          "output_type": "execute_result",
          "data": {
            "text/plain": [
              "NAME_INCOME_TYPE\n",
              "Working                 32460\n",
              "Commercial associate    14253\n",
              "Pensioner               10560\n",
              "State servant            4215\n",
              "Unemployed                  6\n",
              "Student                     4\n",
              "Maternity leave             1\n",
              "Businessman                 1\n",
              "Name: count, dtype: int64"
            ],
            "text/html": [
              "<div>\n",
              "<style scoped>\n",
              "    .dataframe tbody tr th:only-of-type {\n",
              "        vertical-align: middle;\n",
              "    }\n",
              "\n",
              "    .dataframe tbody tr th {\n",
              "        vertical-align: top;\n",
              "    }\n",
              "\n",
              "    .dataframe thead th {\n",
              "        text-align: right;\n",
              "    }\n",
              "</style>\n",
              "<table border=\"1\" class=\"dataframe\">\n",
              "  <thead>\n",
              "    <tr style=\"text-align: right;\">\n",
              "      <th></th>\n",
              "      <th>count</th>\n",
              "    </tr>\n",
              "    <tr>\n",
              "      <th>NAME_INCOME_TYPE</th>\n",
              "      <th></th>\n",
              "    </tr>\n",
              "  </thead>\n",
              "  <tbody>\n",
              "    <tr>\n",
              "      <th>Working</th>\n",
              "      <td>32460</td>\n",
              "    </tr>\n",
              "    <tr>\n",
              "      <th>Commercial associate</th>\n",
              "      <td>14253</td>\n",
              "    </tr>\n",
              "    <tr>\n",
              "      <th>Pensioner</th>\n",
              "      <td>10560</td>\n",
              "    </tr>\n",
              "    <tr>\n",
              "      <th>State servant</th>\n",
              "      <td>4215</td>\n",
              "    </tr>\n",
              "    <tr>\n",
              "      <th>Unemployed</th>\n",
              "      <td>6</td>\n",
              "    </tr>\n",
              "    <tr>\n",
              "      <th>Student</th>\n",
              "      <td>4</td>\n",
              "    </tr>\n",
              "    <tr>\n",
              "      <th>Maternity leave</th>\n",
              "      <td>1</td>\n",
              "    </tr>\n",
              "    <tr>\n",
              "      <th>Businessman</th>\n",
              "      <td>1</td>\n",
              "    </tr>\n",
              "  </tbody>\n",
              "</table>\n",
              "</div><br><label><b>dtype:</b> int64</label>"
            ]
          },
          "metadata": {},
          "execution_count": 141
        }
      ]
    },
    {
      "cell_type": "code",
      "source": [
        "sns.countplot(data=train, x=\"NAME_INCOME_TYPE\")\n",
        "plt.show()"
      ],
      "metadata": {
        "colab": {
          "base_uri": "https://localhost:8080/",
          "height": 449
        },
        "id": "cnnpRaoBmENt",
        "outputId": "c3a61316-f1d3-4efa-f3bb-0ce7335b0e3b"
      },
      "execution_count": 138,
      "outputs": [
        {
          "output_type": "display_data",
          "data": {
            "text/plain": [
              "<Figure size 640x480 with 1 Axes>"
            ],
            "image/png": "[encoded data removed]"
          },
          "metadata": {}
        }
      ]
    },
    {
      "cell_type": "code",
      "source": [
        "freq = train['NAME_INCOME_TYPE'].value_counts()\n",
        "train['NAME_INCOME_TYPE_FE'] = train['NAME_INCOME_TYPE'].map(freq)"
      ],
      "metadata": {
        "id": "d3PSbO1MoCiB"
      },
      "execution_count": 151,
      "outputs": []
    },
    {
      "cell_type": "markdown",
      "source": [
        "評価が下がるのでdropする"
      ],
      "metadata": {
        "id": "lUEA6ZaMpK7C"
      }
    },
    {
      "cell_type": "markdown",
      "source": [
        "###NAME_EDUCATION_TYPEの前処理"
      ],
      "metadata": {
        "id": "Fn1J_JSHpWnF"
      }
    },
    {
      "cell_type": "code",
      "source": [
        "print(train['NAME_EDUCATION_TYPE'].isnull().sum())\n",
        "print(test['NAME_EDUCATION_TYPE'].isnull().sum())"
      ],
      "metadata": {
        "colab": {
          "base_uri": "https://localhost:8080/"
        },
        "id": "WELwLPNspaTk",
        "outputId": "8bb953c8-f6a1-4bb0-86c9-2ae1c5beb95f"
      },
      "execution_count": 156,
      "outputs": [
        {
          "output_type": "stream",
          "name": "stdout",
          "text": [
            "0\n",
            "0\n"
          ]
        }
      ]
    },
    {
      "cell_type": "code",
      "source": [
        "train['NAME_EDUCATION_TYPE'].value_counts()"
      ],
      "metadata": {
        "colab": {
          "base_uri": "https://localhost:8080/",
          "height": 272
        },
        "id": "YJy4dGSTplU-",
        "outputId": "7399918c-67dd-48ed-d308-912d0a7421ff"
      },
      "execution_count": 157,
      "outputs": [
        {
          "output_type": "execute_result",
          "data": {
            "text/plain": [
              "NAME_EDUCATION_TYPE\n",
              "Secondary / secondary special    121612\n",
              "Higher education                  41645\n",
              "Incomplete higher                  5711\n",
              "Lower secondary                    2133\n",
              "Academic degree                     101\n",
              "Name: count, dtype: int64"
            ],
            "text/html": [
              "<div>\n",
              "<style scoped>\n",
              "    .dataframe tbody tr th:only-of-type {\n",
              "        vertical-align: middle;\n",
              "    }\n",
              "\n",
              "    .dataframe tbody tr th {\n",
              "        vertical-align: top;\n",
              "    }\n",
              "\n",
              "    .dataframe thead th {\n",
              "        text-align: right;\n",
              "    }\n",
              "</style>\n",
              "<table border=\"1\" class=\"dataframe\">\n",
              "  <thead>\n",
              "    <tr style=\"text-align: right;\">\n",
              "      <th></th>\n",
              "      <th>count</th>\n",
              "    </tr>\n",
              "    <tr>\n",
              "      <th>NAME_EDUCATION_TYPE</th>\n",
              "      <th></th>\n",
              "    </tr>\n",
              "  </thead>\n",
              "  <tbody>\n",
              "    <tr>\n",
              "      <th>Secondary / secondary special</th>\n",
              "      <td>121612</td>\n",
              "    </tr>\n",
              "    <tr>\n",
              "      <th>Higher education</th>\n",
              "      <td>41645</td>\n",
              "    </tr>\n",
              "    <tr>\n",
              "      <th>Incomplete higher</th>\n",
              "      <td>5711</td>\n",
              "    </tr>\n",
              "    <tr>\n",
              "      <th>Lower secondary</th>\n",
              "      <td>2133</td>\n",
              "    </tr>\n",
              "    <tr>\n",
              "      <th>Academic degree</th>\n",
              "      <td>101</td>\n",
              "    </tr>\n",
              "  </tbody>\n",
              "</table>\n",
              "</div><br><label><b>dtype:</b> int64</label>"
            ]
          },
          "metadata": {},
          "execution_count": 157
        }
      ]
    },
    {
      "cell_type": "code",
      "source": [
        "# 学習データのエンコード\n",
        "train_dummies_NAME_EDUCATION_TYPE = pd.get_dummies(train['NAME_EDUCATION_TYPE'], prefix='income_type').astype(int)\n",
        "\n",
        "# テストデータのエンコード\n",
        "test_dummies_NAME_EDUCATION_TYPE = pd.get_dummies(test['NAME_EDUCATION_TYPE'], prefix='income_type').astype(int)"
      ],
      "metadata": {
        "id": "ZI8AdHmoprHq"
      },
      "execution_count": 159,
      "outputs": []
    },
    {
      "cell_type": "code",
      "source": [
        "train_dummies_NAME_EDUCATION_TYPE.head()"
      ],
      "metadata": {
        "colab": {
          "base_uri": "https://localhost:8080/",
          "height": 224
        },
        "id": "zuOox9_WpiV1",
        "outputId": "745ffbd3-52cf-4914-d137-f114bf594109"
      },
      "execution_count": 160,
      "outputs": [
        {
          "output_type": "execute_result",
          "data": {
            "text/plain": [
              "   income_type_Academic degree  income_type_Higher education  \\\n",
              "0                            0                             1   \n",
              "1                            0                             0   \n",
              "2                            0                             0   \n",
              "3                            0                             0   \n",
              "4                            0                             0   \n",
              "\n",
              "   income_type_Incomplete higher  income_type_Lower secondary  \\\n",
              "0                              0                            0   \n",
              "1                              0                            0   \n",
              "2                              0                            0   \n",
              "3                              0                            1   \n",
              "4                              0                            0   \n",
              "\n",
              "   income_type_Secondary / secondary special  \n",
              "0                                          0  \n",
              "1                                          1  \n",
              "2                                          1  \n",
              "3                                          0  \n",
              "4                                          1  "
            ],
            "text/html": [
              "\n",
              "  <div id=\"df-c89119bb-31be-4957-b56b-a6966a631669\" class=\"colab-df-container\">\n",
              "    <div>\n",
              "<style scoped>\n",
              "    .dataframe tbody tr th:only-of-type {\n",
              "        vertical-align: middle;\n",
              "    }\n",
              "\n",
              "    .dataframe tbody tr th {\n",
              "        vertical-align: top;\n",
              "    }\n",
              "\n",
              "    .dataframe thead th {\n",
              "        text-align: right;\n",
              "    }\n",
              "</style>\n",
              "<table border=\"1\" class=\"dataframe\">\n",
              "  <thead>\n",
              "    <tr style=\"text-align: right;\">\n",
              "      <th></th>\n",
              "      <th>income_type_Academic degree</th>\n",
              "      <th>income_type_Higher education</th>\n",
              "      <th>income_type_Incomplete higher</th>\n",
              "      <th>income_type_Lower secondary</th>\n",
              "      <th>income_type_Secondary / secondary special</th>\n",
              "    </tr>\n",
              "  </thead>\n",
              "  <tbody>\n",
              "    <tr>\n",
              "      <th>0</th>\n",
              "      <td>0</td>\n",
              "      <td>1</td>\n",
              "      <td>0</td>\n",
              "      <td>0</td>\n",
              "      <td>0</td>\n",
              "    </tr>\n",
              "    <tr>\n",
              "      <th>1</th>\n",
              "      <td>0</td>\n",
              "      <td>0</td>\n",
              "      <td>0</td>\n",
              "      <td>0</td>\n",
              "      <td>1</td>\n",
              "    </tr>\n",
              "    <tr>\n",
              "      <th>2</th>\n",
              "      <td>0</td>\n",
              "      <td>0</td>\n",
              "      <td>0</td>\n",
              "      <td>0</td>\n",
              "      <td>1</td>\n",
              "    </tr>\n",
              "    <tr>\n",
              "      <th>3</th>\n",
              "      <td>0</td>\n",
              "      <td>0</td>\n",
              "      <td>0</td>\n",
              "      <td>1</td>\n",
              "      <td>0</td>\n",
              "    </tr>\n",
              "    <tr>\n",
              "      <th>4</th>\n",
              "      <td>0</td>\n",
              "      <td>0</td>\n",
              "      <td>0</td>\n",
              "      <td>0</td>\n",
              "      <td>1</td>\n",
              "    </tr>\n",
              "  </tbody>\n",
              "</table>\n",
              "</div>\n",
              "    <div class=\"colab-df-buttons\">\n",
              "\n",
              "  <div class=\"colab-df-container\">\n",
              "    <button class=\"colab-df-convert\" onclick=\"convertToInteractive('df-c89119bb-31be-4957-b56b-a6966a631669')\"\n",
              "            title=\"Convert this dataframe to an interactive table.\"\n",
              "            style=\"display:none;\">\n",
              "\n",
              "  <svg xmlns=\"http://www.w3.org/2000/svg\" height=\"24px\" viewBox=\"0 -960 960 960\">\n",
              "    <path d=\"M120-120v-720h720v720H120Zm60-500h600v-160H180v160Zm220 220h160v-160H400v160Zm0 220h160v-160H400v160ZM180-400h160v-160H180v160Zm440 0h160v-160H620v160ZM180-180h160v-160H180v160Zm440 0h160v-160H620v160Z\"/>\n",
              "  </svg>\n",
              "    </button>\n",
              "\n",
              "  <style>\n",
              "    .colab-df-container {\n",
              "      display:flex;\n",
              "      gap: 12px;\n",
              "    }\n",
              "\n",
              "    .colab-df-convert {\n",
              "      background-color: #E8F0FE;\n",
              "      border: none;\n",
              "      border-radius: 50%;\n",
              "      cursor: pointer;\n",
              "      display: none;\n",
              "      fill: #1967D2;\n",
              "      height: 32px;\n",
              "      padding: 0 0 0 0;\n",
              "      width: 32px;\n",
              "    }\n",
              "\n",
              "    .colab-df-convert:hover {\n",
              "      background-color: #E2EBFA;\n",
              "      box-shadow: 0px 1px 2px rgba(60, 64, 67, 0.3), 0px 1px 3px 1px rgba(60, 64, 67, 0.15);\n",
              "      fill: #174EA6;\n",
              "    }\n",
              "\n",
              "    .colab-df-buttons div {\n",
              "      margin-bottom: 4px;\n",
              "    }\n",
              "\n",
              "    [theme=dark] .colab-df-convert {\n",
              "      background-color: #3B4455;\n",
              "      fill: #D2E3FC;\n",
              "    }\n",
              "\n",
              "    [theme=dark] .colab-df-convert:hover {\n",
              "      background-color: #434B5C;\n",
              "      box-shadow: 0px 1px 3px 1px rgba(0, 0, 0, 0.15);\n",
              "      filter: drop-shadow(0px 1px 2px rgba(0, 0, 0, 0.3));\n",
              "      fill: #FFFFFF;\n",
              "    }\n",
              "  </style>\n",
              "\n",
              "    <script>\n",
              "      const buttonEl =\n",
              "        document.querySelector('#df-c89119bb-31be-4957-b56b-a6966a631669 button.colab-df-convert');\n",
              "      buttonEl.style.display =\n",
              "        google.colab.kernel.accessAllowed ? 'block' : 'none';\n",
              "\n",
              "      async function convertToInteractive(key) {\n",
              "        const element = document.querySelector('#df-c89119bb-31be-4957-b56b-a6966a631669');\n",
              "        const dataTable =\n",
              "          await google.colab.kernel.invokeFunction('convertToInteractive',\n",
              "                                                    [key], {});\n",
              "        if (!dataTable) return;\n",
              "\n",
              "        const docLinkHtml = 'Like what you see? Visit the ' +\n",
              "          '<a target=\"_blank\" href=https://colab.research.google.com/notebooks/data_table.ipynb>data table notebook</a>'\n",
              "          + ' to learn more about interactive tables.';\n",
              "        element.innerHTML = '';\n",
              "        dataTable['output_type'] = 'display_data';\n",
              "        await google.colab.output.renderOutput(dataTable, element);\n",
              "        const docLink = document.createElement('div');\n",
              "        docLink.innerHTML = docLinkHtml;\n",
              "        element.appendChild(docLink);\n",
              "      }\n",
              "    </script>\n",
              "  </div>\n",
              "\n",
              "\n",
              "<div id=\"df-7d87701f-9a19-4325-bfc4-be6cef6dbf7a\">\n",
              "  <button class=\"colab-df-quickchart\" onclick=\"quickchart('df-7d87701f-9a19-4325-bfc4-be6cef6dbf7a')\"\n",
              "            title=\"Suggest charts\"\n",
              "            style=\"display:none;\">\n",
              "\n",
              "<svg xmlns=\"http://www.w3.org/2000/svg\" height=\"24px\"viewBox=\"0 0 24 24\"\n",
              "     width=\"24px\">\n",
              "    <g>\n",
              "        <path d=\"M19 3H5c-1.1 0-2 .9-2 2v14c0 1.1.9 2 2 2h14c1.1 0 2-.9 2-2V5c0-1.1-.9-2-2-2zM9 17H7v-7h2v7zm4 0h-2V7h2v10zm4 0h-2v-4h2v4z\"/>\n",
              "    </g>\n",
              "</svg>\n",
              "  </button>\n",
              "\n",
              "<style>\n",
              "  .colab-df-quickchart {\n",
              "      --bg-color: #E8F0FE;\n",
              "      --fill-color: #1967D2;\n",
              "      --hover-bg-color: #E2EBFA;\n",
              "      --hover-fill-color: #174EA6;\n",
              "      --disabled-fill-color: #AAA;\n",
              "      --disabled-bg-color: #DDD;\n",
              "  }\n",
              "\n",
              "  [theme=dark] .colab-df-quickchart {\n",
              "      --bg-color: #3B4455;\n",
              "      --fill-color: #D2E3FC;\n",
              "      --hover-bg-color: #434B5C;\n",
              "      --hover-fill-color: #FFFFFF;\n",
              "      --disabled-bg-color: #3B4455;\n",
              "      --disabled-fill-color: #666;\n",
              "  }\n",
              "\n",
              "  .colab-df-quickchart {\n",
              "    background-color: var(--bg-color);\n",
              "    border: none;\n",
              "    border-radius: 50%;\n",
              "    cursor: pointer;\n",
              "    display: none;\n",
              "    fill: var(--fill-color);\n",
              "    height: 32px;\n",
              "    padding: 0;\n",
              "    width: 32px;\n",
              "  }\n",
              "\n",
              "  .colab-df-quickchart:hover {\n",
              "    background-color: var(--hover-bg-color);\n",
              "    box-shadow: 0 1px 2px rgba(60, 64, 67, 0.3), 0 1px 3px 1px rgba(60, 64, 67, 0.15);\n",
              "    fill: var(--button-hover-fill-color);\n",
              "  }\n",
              "\n",
              "  .colab-df-quickchart-complete:disabled,\n",
              "  .colab-df-quickchart-complete:disabled:hover {\n",
              "    background-color: var(--disabled-bg-color);\n",
              "    fill: var(--disabled-fill-color);\n",
              "    box-shadow: none;\n",
              "  }\n",
              "\n",
              "  .colab-df-spinner {\n",
              "    border: 2px solid var(--fill-color);\n",
              "    border-color: transparent;\n",
              "    border-bottom-color: var(--fill-color);\n",
              "    animation:\n",
              "      spin 1s steps(1) infinite;\n",
              "  }\n",
              "\n",
              "  @keyframes spin {\n",
              "    0% {\n",
              "      border-color: transparent;\n",
              "      border-bottom-color: var(--fill-color);\n",
              "      border-left-color: var(--fill-color);\n",
              "    }\n",
              "    20% {\n",
              "      border-color: transparent;\n",
              "      border-left-color: var(--fill-color);\n",
              "      border-top-color: var(--fill-color);\n",
              "    }\n",
              "    30% {\n",
              "      border-color: transparent;\n",
              "      border-left-color: var(--fill-color);\n",
              "      border-top-color: var(--fill-color);\n",
              "      border-right-color: var(--fill-color);\n",
              "    }\n",
              "    40% {\n",
              "      border-color: transparent;\n",
              "      border-right-color: var(--fill-color);\n",
              "      border-top-color: var(--fill-color);\n",
              "    }\n",
              "    60% {\n",
              "      border-color: transparent;\n",
              "      border-right-color: var(--fill-color);\n",
              "    }\n",
              "    80% {\n",
              "      border-color: transparent;\n",
              "      border-right-color: var(--fill-color);\n",
              "      border-bottom-color: var(--fill-color);\n",
              "    }\n",
              "    90% {\n",
              "      border-color: transparent;\n",
              "      border-bottom-color: var(--fill-color);\n",
              "    }\n",
              "  }\n",
              "</style>\n",
              "\n",
              "  <script>\n",
              "    async function quickchart(key) {\n",
              "      const quickchartButtonEl =\n",
              "        document.querySelector('#' + key + ' button');\n",
              "      quickchartButtonEl.disabled = true;  // To prevent multiple clicks.\n",
              "      quickchartButtonEl.classList.add('colab-df-spinner');\n",
              "      try {\n",
              "        const charts = await google.colab.kernel.invokeFunction(\n",
              "            'suggestCharts', [key], {});\n",
              "      } catch (error) {\n",
              "        console.error('Error during call to suggestCharts:', error);\n",
              "      }\n",
              "      quickchartButtonEl.classList.remove('colab-df-spinner');\n",
              "      quickchartButtonEl.classList.add('colab-df-quickchart-complete');\n",
              "    }\n",
              "    (() => {\n",
              "      let quickchartButtonEl =\n",
              "        document.querySelector('#df-7d87701f-9a19-4325-bfc4-be6cef6dbf7a button');\n",
              "      quickchartButtonEl.style.display =\n",
              "        google.colab.kernel.accessAllowed ? 'block' : 'none';\n",
              "    })();\n",
              "  </script>\n",
              "</div>\n",
              "\n",
              "    </div>\n",
              "  </div>\n"
            ],
            "application/vnd.google.colaboratory.intrinsic+json": {
              "type": "dataframe",
              "variable_name": "train_dummies_NAME_EDUCATION_TYPE"
            }
          },
          "metadata": {},
          "execution_count": 160
        }
      ]
    },
    {
      "cell_type": "markdown",
      "source": [
        "###モデル"
      ],
      "metadata": {
        "id": "0e_FDey7CYHU"
      }
    },
    {
      "cell_type": "code",
      "source": [
        "import lightgbm as lgb\n",
        "from sklearn.model_selection import train_test_split\n",
        "from sklearn.metrics import log_loss\n",
        "\n",
        "from xgboost import XGBClassifier\n",
        "from sklearn.metrics import roc_auc_score"
      ],
      "metadata": {
        "id": "1zkA3MOhSky5"
      },
      "execution_count": 86,
      "outputs": []
    },
    {
      "cell_type": "code",
      "source": [
        "# 特徴量とターゲットの分割\n",
        "X = pd.concat([train[['EXT_SOURCE_MEAN','OCCUPATION_TYPE_MISSING', 'AMT_INCOME_TOTAL',\n",
        "                      'NAME_CONTRACT_TYPE', 'ORGANIZATION_TYPE', 'CODE_GENDER',\n",
        "                      'CNT_CHILDREN', 'AMT_CREDIT_LOG', 'AMT_ANNUITY_LOG']],\n",
        "               train_dummies_NAME_EDUCATION_TYPE], axis=1)"
      ],
      "metadata": {
        "id": "qhJqrPE6oVrd"
      },
      "execution_count": 163,
      "outputs": []
    },
    {
      "cell_type": "code",
      "source": [
        "y = train['TARGET']\n",
        "\n",
        "# 学習データと検証データの分割（stratifyオプションでラベル分布を維持）\n",
        "X_train, X_valid, y_train, y_valid = train_test_split(X, y, test_size=0.2, random_state=42, stratify=y)\n",
        "\n",
        "# LightGBMのデータセット作成\n",
        "lgb_train = lgb.Dataset(X_train, y_train)\n",
        "lgb_eval = lgb.Dataset(X_valid, y_valid, reference=lgb_train)\n",
        "\n",
        "# LightGBMのパラメータ (一例)\n",
        "params = {\n",
        "    'objective': 'binary',\n",
        "    'metric': 'binary_logloss',\n",
        "    'boosting_type': 'gbdt',\n",
        "    'seed': 42,\n",
        "    'verbose': -1,\n",
        "    'learning_rate': 0.05,\n",
        "    'num_leaves': 31,\n",
        "    'feature_fraction': 0.8,\n",
        "    'bagging_fraction': 0.8,\n",
        "    'bagging_freq': 1\n",
        "}\n",
        "\n",
        "# コールバックを利用した早期終了と評価ログ出力\n",
        "callbacks = [\n",
        "    lgb.early_stopping(stopping_rounds=20),\n",
        "    lgb.log_evaluation(period=50)\n",
        "]\n",
        "\n",
        "# モデルの学習\n",
        "model = lgb.train(\n",
        "    params,\n",
        "    lgb_train,\n",
        "    num_boost_round=1000,\n",
        "    valid_sets=[lgb_eval],\n",
        "    valid_names=['valid'],\n",
        "    callbacks=callbacks\n",
        ")\n",
        "\n",
        "# 検証データで評価\n",
        "y_pred = model.predict(X_valid, num_iteration=model.best_iteration)\n",
        "\n",
        "\n",
        "# 学習済みモデルに対して予測\n",
        "y_train_pred = model.predict(X_train, num_iteration=model.best_iteration)\n",
        "y_valid_pred = model.predict(X_valid, num_iteration=model.best_iteration)\n",
        "\n",
        "# 評価指標の計算\n",
        "val_logloss = log_loss(y_valid, y_valid_pred)\n",
        "train_auc = roc_auc_score(y_train, y_train_pred)\n",
        "valid_auc = roc_auc_score(y_valid, y_valid_pred)\n",
        "\n",
        "#\n",
        "print(\"Validation Log Loss:\", val_logloss)\n",
        "print(\"Train Score:\", train_auc)\n",
        "print(\"Valid Score:\", valid_auc)"
      ],
      "metadata": {
        "colab": {
          "base_uri": "https://localhost:8080/"
        },
        "id": "a0RYrPKZVnW5",
        "outputId": "8b3c2e9c-ddc7-4417-e284-160645e2a566"
      },
      "execution_count": 162,
      "outputs": [
        {
          "output_type": "stream",
          "name": "stdout",
          "text": [
            "Training until validation scores don't improve for 20 rounds\n",
            "[50]\tvalid's binary_logloss: 0.256645\n",
            "[100]\tvalid's binary_logloss: 0.255388\n",
            "[150]\tvalid's binary_logloss: 0.255028\n",
            "Early stopping, best iteration is:\n",
            "[165]\tvalid's binary_logloss: 0.254964\n",
            "Validation Log Loss: 0.25496366297988865\n",
            "Train Score: 0.7736467639388189\n",
            "Valid Score: 0.7249265215908688\n"
          ]
        }
      ]
    },
    {
      "cell_type": "code",
      "source": [
        "# 例:\n",
        "X_test = test[['EXT_SOURCE_MEAN', 'OCCUPATION_TYPE_MISSING', 'AMT_INCOME_TOTAL', 'NAME_CONTRACT_TYPE', 'ORGANIZATION_TYPE']]\n",
        "\n",
        "# テストデータに対する予測\n",
        "pred = model.predict(X_test)\n",
        "\n",
        "# 予測結果を提出用DataFrameに格納\n",
        "sample_sub['TARGET'] = pred\n",
        "\n",
        "# 提出用のcsvファイルを作成\n",
        "sample_sub.to_csv('submission.csv', index=False)\n",
        "print(\"submission.csv が作成されました\")"
      ],
      "metadata": {
        "colab": {
          "base_uri": "https://localhost:8080/"
        },
        "id": "FLuRIu-DHRb8",
        "outputId": "017381f0-e5d0-4f9a-e5a3-6b8116b8fe3f"
      },
      "execution_count": null,
      "outputs": [
        {
          "output_type": "stream",
          "name": "stdout",
          "text": [
            "submission.csv が作成されました\n"
          ]
        }
      ]
    }
  ]
}